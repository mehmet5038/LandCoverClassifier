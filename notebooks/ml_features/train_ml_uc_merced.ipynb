{
 "cells": [
  {
   "cell_type": "markdown",
   "id": "60b9ffad",
   "metadata": {},
   "source": [
    "## Gerekli kütüphaneler:"
   ]
  },
  {
   "cell_type": "code",
   "execution_count": 1,
   "id": "f8275364",
   "metadata": {},
   "outputs": [],
   "source": [
    "import sys\n",
    "\n",
    "sys.path.append(\"../..\")\n",
    "\n",
    "import os\n",
    "import cv2\n",
    "import numpy as np\n",
    "import joblib\n",
    "from tqdm import tqdm\n",
    "\n",
    "from sklearn.ensemble import RandomForestClassifier, GradientBoostingClassifier\n",
    "from sklearn.neural_network import MLPClassifier\n",
    "from sklearn.model_selection import train_test_split\n",
    "\n",
    "from utils.ml_features.preprocessing import extract_features, apply_pca\n",
    "from utils.ml_features.grid_search import grid_search"
   ]
  },
  {
   "cell_type": "markdown",
   "id": "2233f254",
   "metadata": {},
   "source": [
    "## Veri yolu ve etiketler:"
   ]
  },
  {
   "cell_type": "code",
   "execution_count": 2,
   "id": "463109e8",
   "metadata": {},
   "outputs": [],
   "source": [
    "data_dir = \"../../data/uc_merced\"\n",
    "class_names = sorted(os.listdir(data_dir))"
   ]
  },
  {
   "cell_type": "markdown",
   "id": "ffcac4e7",
   "metadata": {},
   "source": [
    "## Feature çıkarma:"
   ]
  },
  {
   "cell_type": "code",
   "execution_count": 3,
   "id": "2940ab32",
   "metadata": {},
   "outputs": [
    {
     "name": "stdout",
     "output_type": "stream",
     "text": [
      "İşlenen class: agricultural\n"
     ]
    },
    {
     "name": "stderr",
     "output_type": "stream",
     "text": [
      "                                                              \r"
     ]
    },
    {
     "name": "stdout",
     "output_type": "stream",
     "text": [
      "İşlenen class: airplane\n"
     ]
    },
    {
     "name": "stderr",
     "output_type": "stream",
     "text": [
      "                                                          \r"
     ]
    },
    {
     "name": "stdout",
     "output_type": "stream",
     "text": [
      "İşlenen class: baseballdiamond\n"
     ]
    },
    {
     "name": "stderr",
     "output_type": "stream",
     "text": [
      "                                                                 \r"
     ]
    },
    {
     "name": "stdout",
     "output_type": "stream",
     "text": [
      "İşlenen class: beach\n"
     ]
    },
    {
     "name": "stderr",
     "output_type": "stream",
     "text": [
      "                                                       \r"
     ]
    },
    {
     "name": "stdout",
     "output_type": "stream",
     "text": [
      "İşlenen class: buildings\n"
     ]
    },
    {
     "name": "stderr",
     "output_type": "stream",
     "text": [
      "                                                           \r"
     ]
    },
    {
     "name": "stdout",
     "output_type": "stream",
     "text": [
      "İşlenen class: chaparral\n"
     ]
    },
    {
     "name": "stderr",
     "output_type": "stream",
     "text": [
      "                                                            \r"
     ]
    },
    {
     "name": "stdout",
     "output_type": "stream",
     "text": [
      "İşlenen class: denseresidential\n"
     ]
    },
    {
     "name": "stderr",
     "output_type": "stream",
     "text": [
      "                                                                   \r"
     ]
    },
    {
     "name": "stdout",
     "output_type": "stream",
     "text": [
      "İşlenen class: forest\n"
     ]
    },
    {
     "name": "stderr",
     "output_type": "stream",
     "text": [
      "                                                         \r"
     ]
    },
    {
     "name": "stdout",
     "output_type": "stream",
     "text": [
      "İşlenen class: freeway\n"
     ]
    },
    {
     "name": "stderr",
     "output_type": "stream",
     "text": [
      "                                                         \r"
     ]
    },
    {
     "name": "stdout",
     "output_type": "stream",
     "text": [
      "İşlenen class: golfcourse\n"
     ]
    },
    {
     "name": "stderr",
     "output_type": "stream",
     "text": [
      "                                                             \r"
     ]
    },
    {
     "name": "stdout",
     "output_type": "stream",
     "text": [
      "İşlenen class: harbor\n"
     ]
    },
    {
     "name": "stderr",
     "output_type": "stream",
     "text": [
      "                                                        \r"
     ]
    },
    {
     "name": "stdout",
     "output_type": "stream",
     "text": [
      "İşlenen class: intersection\n"
     ]
    },
    {
     "name": "stderr",
     "output_type": "stream",
     "text": [
      "                                                              \r"
     ]
    },
    {
     "name": "stdout",
     "output_type": "stream",
     "text": [
      "İşlenen class: mediumresidential\n"
     ]
    },
    {
     "name": "stderr",
     "output_type": "stream",
     "text": [
      "                                                                   \r"
     ]
    },
    {
     "name": "stdout",
     "output_type": "stream",
     "text": [
      "İşlenen class: mobilehomepark\n"
     ]
    },
    {
     "name": "stderr",
     "output_type": "stream",
     "text": [
      "                                                                \r"
     ]
    },
    {
     "name": "stdout",
     "output_type": "stream",
     "text": [
      "İşlenen class: overpass\n"
     ]
    },
    {
     "name": "stderr",
     "output_type": "stream",
     "text": [
      "                                                          \r"
     ]
    },
    {
     "name": "stdout",
     "output_type": "stream",
     "text": [
      "İşlenen class: parkinglot\n"
     ]
    },
    {
     "name": "stderr",
     "output_type": "stream",
     "text": [
      "                                                            \r"
     ]
    },
    {
     "name": "stdout",
     "output_type": "stream",
     "text": [
      "İşlenen class: river\n"
     ]
    },
    {
     "name": "stderr",
     "output_type": "stream",
     "text": [
      "                                                       \r"
     ]
    },
    {
     "name": "stdout",
     "output_type": "stream",
     "text": [
      "İşlenen class: runway\n"
     ]
    },
    {
     "name": "stderr",
     "output_type": "stream",
     "text": [
      "                                                        \r"
     ]
    },
    {
     "name": "stdout",
     "output_type": "stream",
     "text": [
      "İşlenen class: sparseresidential\n"
     ]
    },
    {
     "name": "stderr",
     "output_type": "stream",
     "text": [
      "                                                                    \r"
     ]
    },
    {
     "name": "stdout",
     "output_type": "stream",
     "text": [
      "İşlenen class: storagetanks\n"
     ]
    },
    {
     "name": "stderr",
     "output_type": "stream",
     "text": [
      "                                                              \r"
     ]
    },
    {
     "name": "stdout",
     "output_type": "stream",
     "text": [
      "İşlenen class: tenniscourt\n"
     ]
    },
    {
     "name": "stderr",
     "output_type": "stream",
     "text": [
      "                                                             "
     ]
    },
    {
     "name": "stdout",
     "output_type": "stream",
     "text": [
      "Toplam örnek: 2100 | Feature boyutu: 1803\n"
     ]
    },
    {
     "name": "stderr",
     "output_type": "stream",
     "text": [
      "\r"
     ]
    }
   ],
   "source": [
    "x_data, y_data = [], []\n",
    "\n",
    "for label, cls in enumerate(class_names):\n",
    "    cls_path = os.path.join(data_dir, cls)\n",
    "    print(\"İşlenen class:\", cls)\n",
    "    for fname in tqdm(os.listdir(cls_path), desc=f\"{cls}\", leave=False):\n",
    "        img_path = os.path.join(cls_path, fname)\n",
    "        img = cv2.imread(img_path)\n",
    "        if img is None:\n",
    "            continue\n",
    "        img = cv2.cvtColor(img, cv2.COLOR_BGR2RGB)\n",
    "        img = cv2.resize(img, (128, 128))\n",
    "        features = extract_features(img)\n",
    "        x_data.append(features)\n",
    "        y_data.append(label)\n",
    "\n",
    "x_data = np.array(x_data)\n",
    "y_data = np.array(y_data)\n",
    "print(\"Toplam örnek:\", len(x_data), \"| Feature boyutu:\",  x_data.shape[1])"
   ]
  },
  {
   "cell_type": "markdown",
   "id": "af6f69c7",
   "metadata": {},
   "source": [
    "## PCA kullanarak boyut azaltımı:"
   ]
  },
  {
   "cell_type": "code",
   "execution_count": 4,
   "id": "0344bdfa",
   "metadata": {},
   "outputs": [],
   "source": [
    "x_reduced = apply_pca(False, x_data, n_components=100)"
   ]
  },
  {
   "cell_type": "markdown",
   "id": "af125646",
   "metadata": {},
   "source": [
    "## Veriyi bölme:"
   ]
  },
  {
   "cell_type": "code",
   "execution_count": 5,
   "id": "db991d18",
   "metadata": {},
   "outputs": [],
   "source": [
    "x_train, x_test, y_train, y_test = train_test_split(x_reduced, y_data, test_size=0.2, stratify=y_data, random_state=42)"
   ]
  },
  {
   "cell_type": "markdown",
   "id": "f72244b1",
   "metadata": {},
   "source": [
    "## Grid search ile random forest:"
   ]
  },
  {
   "cell_type": "code",
   "execution_count": 6,
   "id": "6127b05c",
   "metadata": {},
   "outputs": [
    {
     "name": "stdout",
     "output_type": "stream",
     "text": [
      "Random Forest eğitimi başladı.\n",
      "Denenecek hiperparametre kombinasyon sayısı: 4\n"
     ]
    },
    {
     "name": "stderr",
     "output_type": "stream",
     "text": [
      "RandomForestClassifier Grid Search:  25%|██▌       | 1/4 [00:08<00:25,  8.60s/it]"
     ]
    },
    {
     "name": "stdout",
     "output_type": "stream",
     "text": [
      "Parametreler: {'n_estimators': 75, 'max_depth': 10} | Skor: 0.6869047619047619 | Süre: 8 sn\n"
     ]
    },
    {
     "name": "stderr",
     "output_type": "stream",
     "text": [
      "RandomForestClassifier Grid Search:  50%|█████     | 2/4 [00:17<00:17,  8.61s/it]"
     ]
    },
    {
     "name": "stdout",
     "output_type": "stream",
     "text": [
      "Parametreler: {'n_estimators': 75, 'max_depth': 20} | Skor: 0.724404761904762 | Süre: 8 sn\n"
     ]
    },
    {
     "name": "stderr",
     "output_type": "stream",
     "text": [
      "RandomForestClassifier Grid Search:  75%|███████▌  | 3/4 [00:20<00:06,  6.13s/it]"
     ]
    },
    {
     "name": "stdout",
     "output_type": "stream",
     "text": [
      "Parametreler: {'n_estimators': 100, 'max_depth': 10} | Skor: 0.6988095238095238 | Süre: 3 sn\n"
     ]
    },
    {
     "name": "stderr",
     "output_type": "stream",
     "text": [
      "RandomForestClassifier Grid Search: 100%|██████████| 4/4 [00:24<00:00,  6.09s/it]"
     ]
    },
    {
     "name": "stdout",
     "output_type": "stream",
     "text": [
      "Parametreler: {'n_estimators': 100, 'max_depth': 20} | Skor: 0.7375 | Süre: 3 sn\n"
     ]
    },
    {
     "name": "stderr",
     "output_type": "stream",
     "text": [
      "\n"
     ]
    },
    {
     "name": "stdout",
     "output_type": "stream",
     "text": [
      "Random Forest için en iyi skor: 0.7375 | Parametreler: {'n_estimators': 100, 'max_depth': 20} | Toplam Süre: 24 sn \n",
      "\n"
     ]
    }
   ],
   "source": [
    "model = RandomForestClassifier()\n",
    "params = {\n",
    "    \"n_estimators\": [75, 100],\n",
    "    \"max_depth\": [10, 20]\n",
    "}\n",
    "\n",
    "print(\"Random Forest eğitimi başladı.\")\n",
    "best_model, best_score, best_params, total_time = grid_search(model, params, x_train, y_train, cv=5)\n",
    "joblib.dump(best_model, \"../../models/ml_features/uc_merced_rf.pkl\")\n",
    "print(\"Random Forest için en iyi skor:\", best_score, \"| Parametreler:\", best_params, \"| Toplam Süre:\", total_time, \"\\n\")"
   ]
  },
  {
   "cell_type": "markdown",
   "id": "f1f3cf50",
   "metadata": {},
   "source": [
    "## Grid search ile gradient boosting:"
   ]
  },
  {
   "cell_type": "code",
   "execution_count": 7,
   "id": "b7ee34a3",
   "metadata": {},
   "outputs": [
    {
     "name": "stdout",
     "output_type": "stream",
     "text": [
      "Gradient Boosting eğitimi başladı.\n",
      "Denenecek hiperparametre kombinasyon sayısı: 1\n"
     ]
    },
    {
     "name": "stderr",
     "output_type": "stream",
     "text": [
      "GradientBoostingClassifier Grid Search: 100%|██████████| 1/1 [01:43<00:00, 103.53s/it]"
     ]
    },
    {
     "name": "stdout",
     "output_type": "stream",
     "text": [
      "Parametreler: {'n_estimators': 50} | Skor: 0.6261904761904763 | Süre: 1 dk 43 sn\n"
     ]
    },
    {
     "name": "stderr",
     "output_type": "stream",
     "text": [
      "\n"
     ]
    },
    {
     "name": "stdout",
     "output_type": "stream",
     "text": [
      "Gradient Boosting için en iyi skor: 0.6261904761904763 | Parametreler: {'n_estimators': 50} | Toplam Süre: 1 dk 43 sn \n",
      "\n"
     ]
    }
   ],
   "source": [
    "model = GradientBoostingClassifier()\n",
    "params = {\n",
    "    \"n_estimators\": [50]\n",
    "}\n",
    "\n",
    "print(\"Gradient Boosting eğitimi başladı.\")\n",
    "best_model, best_score, best_params, total_time = grid_search(model, params, x_train, y_train, cv=5)\n",
    "joblib.dump(best_model, \"../../models/ml_features/uc_merced_gb.pkl\")\n",
    "print(\"Gradient Boosting için en iyi skor:\", best_score, \"| Parametreler:\", best_params, \"| Toplam Süre:\", total_time, \"\\n\")"
   ]
  },
  {
   "cell_type": "markdown",
   "id": "7d3a42a9",
   "metadata": {},
   "source": [
    "## Grid search ile multilayer perceptron:"
   ]
  },
  {
   "cell_type": "code",
   "execution_count": 8,
   "id": "433874af",
   "metadata": {},
   "outputs": [
    {
     "name": "stdout",
     "output_type": "stream",
     "text": [
      "Multilayer Perceptron eğitimi başladı.\n",
      "Denenecek hiperparametre kombinasyon sayısı: 2\n"
     ]
    },
    {
     "name": "stderr",
     "output_type": "stream",
     "text": [
      "MLPClassifier Grid Search:  50%|█████     | 1/2 [00:03<00:03,  3.66s/it]"
     ]
    },
    {
     "name": "stdout",
     "output_type": "stream",
     "text": [
      "Parametreler: {'hidden_layer_sizes': (100,), 'alpha': 0.0001, 'learning_rate_init': 0.001} | Skor: 0.5190476190476191 | Süre: 3 sn\n"
     ]
    },
    {
     "name": "stderr",
     "output_type": "stream",
     "text": [
      "MLPClassifier Grid Search: 100%|██████████| 2/2 [00:06<00:00,  3.49s/it]"
     ]
    },
    {
     "name": "stdout",
     "output_type": "stream",
     "text": [
      "Parametreler: {'hidden_layer_sizes': (128,), 'alpha': 0.0001, 'learning_rate_init': 0.001} | Skor: 0.5029761904761905 | Süre: 3 sn\n"
     ]
    },
    {
     "name": "stderr",
     "output_type": "stream",
     "text": [
      "\n"
     ]
    },
    {
     "name": "stdout",
     "output_type": "stream",
     "text": [
      "Multilayer Perceptron için en iyi skor: 0.5190476190476191 | Parametreler: {'hidden_layer_sizes': (100,), 'alpha': 0.0001, 'learning_rate_init': 0.001} | Toplam Süre: 6 sn \n",
      "\n"
     ]
    }
   ],
   "source": [
    "model = MLPClassifier(max_iter=300)\n",
    "params = {\n",
    "    \"hidden_layer_sizes\": [(100,), (128,)],\n",
    "    \"alpha\": [0.0001],\n",
    "    \"learning_rate_init\": [0.001]\n",
    "}\n",
    "\n",
    "print(\"Multilayer Perceptron eğitimi başladı.\")\n",
    "best_model, best_score, best_params, total_time = grid_search(model, params, x_train, y_train, cv=5)\n",
    "joblib.dump(best_model, \"../../models/ml_features/uc_merced_mlp.pkl\")\n",
    "print(\"Multilayer Perceptron için en iyi skor:\", best_score, \"| Parametreler:\", best_params, \"| Toplam Süre:\", total_time, \"\\n\")"
   ]
  }
 ],
 "metadata": {
  "kernelspec": {
   "display_name": ".venv",
   "language": "python",
   "name": "python3"
  },
  "language_info": {
   "codemirror_mode": {
    "name": "ipython",
    "version": 3
   },
   "file_extension": ".py",
   "mimetype": "text/x-python",
   "name": "python",
   "nbconvert_exporter": "python",
   "pygments_lexer": "ipython3",
   "version": "3.11.9"
  }
 },
 "nbformat": 4,
 "nbformat_minor": 5
}
