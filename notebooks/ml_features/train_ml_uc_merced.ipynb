{
 "cells": [
  {
   "cell_type": "markdown",
   "id": "60b9ffad",
   "metadata": {},
   "source": [
    "## Gerekli kütüphaneler:\n",
    "Modelin kurulumu ve eğitim süreci için gerekli tüm paketleri içe aktarılır."
   ]
  },
  {
   "cell_type": "code",
   "execution_count": 17,
   "id": "f8275364",
   "metadata": {},
   "outputs": [],
   "source": [
    "import sys\n",
    "\n",
    "sys.path.append(\"../..\")\n",
    "\n",
    "import os\n",
    "import cv2\n",
    "import numpy as np\n",
    "import joblib\n",
    "from tqdm import tqdm\n",
    "\n",
    "from sklearn.ensemble import RandomForestClassifier, HistGradientBoostingClassifier\n",
    "from sklearn.neural_network import MLPClassifier\n",
    "from sklearn.model_selection import train_test_split\n",
    "from sklearn.preprocessing import StandardScaler\n",
    "\n",
    "from utils.ml_features.preprocessing import extract_features, apply_pca\n",
    "from utils.ml_features.grid_search import grid_search"
   ]
  },
  {
   "cell_type": "markdown",
   "id": "2233f254",
   "metadata": {},
   "source": [
    "## Veri yolu ve etiketler:\n",
    "Veri setinin konumu `data_dir` değişkeninde tanımlanır ve klasör isimleri alfabetik olarak sıralanarak `class_names` listesi ile sınıf etiketleri elde edilir."
   ]
  },
  {
   "cell_type": "code",
   "execution_count": 18,
   "id": "463109e8",
   "metadata": {},
   "outputs": [],
   "source": [
    "data_dir = \"../../data/uc_merced\"\n",
    "class_names = sorted(os.listdir(data_dir))"
   ]
  },
  {
   "cell_type": "markdown",
   "id": "ffcac4e7",
   "metadata": {},
   "source": [
    "## Feature çıkarma:\n",
    "Her sınıfa ait tüm görüntüler okunur, 128×128 boyutuna getirilir ve RGB formatına dönüştürülür. `extract_features` fonksiyonu ile HOG, LBP, HSV histogramı ve GLCM tabanlı özellikler çıkarılarak `x_data` dizisine eklenir. Sınıf etiketleri `y_data` listesinde tutulur."
   ]
  },
  {
   "cell_type": "code",
   "execution_count": 19,
   "id": "2940ab32",
   "metadata": {},
   "outputs": [
    {
     "name": "stdout",
     "output_type": "stream",
     "text": [
      "İşlenen class: agricultural\n"
     ]
    },
    {
     "name": "stderr",
     "output_type": "stream",
     "text": [
      "                                                              \r"
     ]
    },
    {
     "name": "stdout",
     "output_type": "stream",
     "text": [
      "İşlenen class: airplane\n"
     ]
    },
    {
     "name": "stderr",
     "output_type": "stream",
     "text": [
      "                                                          \r"
     ]
    },
    {
     "name": "stdout",
     "output_type": "stream",
     "text": [
      "İşlenen class: baseballdiamond\n"
     ]
    },
    {
     "name": "stderr",
     "output_type": "stream",
     "text": [
      "                                                                 \r"
     ]
    },
    {
     "name": "stdout",
     "output_type": "stream",
     "text": [
      "İşlenen class: beach\n"
     ]
    },
    {
     "name": "stderr",
     "output_type": "stream",
     "text": [
      "                                                        \r"
     ]
    },
    {
     "name": "stdout",
     "output_type": "stream",
     "text": [
      "İşlenen class: buildings\n"
     ]
    },
    {
     "name": "stderr",
     "output_type": "stream",
     "text": [
      "                                                           \r"
     ]
    },
    {
     "name": "stdout",
     "output_type": "stream",
     "text": [
      "İşlenen class: chaparral\n"
     ]
    },
    {
     "name": "stderr",
     "output_type": "stream",
     "text": [
      "                                                           \r"
     ]
    },
    {
     "name": "stdout",
     "output_type": "stream",
     "text": [
      "İşlenen class: denseresidential\n"
     ]
    },
    {
     "name": "stderr",
     "output_type": "stream",
     "text": [
      "                                                                  \r"
     ]
    },
    {
     "name": "stdout",
     "output_type": "stream",
     "text": [
      "İşlenen class: forest\n"
     ]
    },
    {
     "name": "stderr",
     "output_type": "stream",
     "text": [
      "                                                        \r"
     ]
    },
    {
     "name": "stdout",
     "output_type": "stream",
     "text": [
      "İşlenen class: freeway\n"
     ]
    },
    {
     "name": "stderr",
     "output_type": "stream",
     "text": [
      "                                                          \r"
     ]
    },
    {
     "name": "stdout",
     "output_type": "stream",
     "text": [
      "İşlenen class: golfcourse\n"
     ]
    },
    {
     "name": "stderr",
     "output_type": "stream",
     "text": [
      "                                                            \r"
     ]
    },
    {
     "name": "stdout",
     "output_type": "stream",
     "text": [
      "İşlenen class: harbor\n"
     ]
    },
    {
     "name": "stderr",
     "output_type": "stream",
     "text": [
      "                                                         \r"
     ]
    },
    {
     "name": "stdout",
     "output_type": "stream",
     "text": [
      "İşlenen class: intersection\n"
     ]
    },
    {
     "name": "stderr",
     "output_type": "stream",
     "text": [
      "                                                               \r"
     ]
    },
    {
     "name": "stdout",
     "output_type": "stream",
     "text": [
      "İşlenen class: mediumresidential\n"
     ]
    },
    {
     "name": "stderr",
     "output_type": "stream",
     "text": [
      "                                                                   \r"
     ]
    },
    {
     "name": "stdout",
     "output_type": "stream",
     "text": [
      "İşlenen class: mobilehomepark\n"
     ]
    },
    {
     "name": "stderr",
     "output_type": "stream",
     "text": [
      "                                                                 \r"
     ]
    },
    {
     "name": "stdout",
     "output_type": "stream",
     "text": [
      "İşlenen class: overpass\n"
     ]
    },
    {
     "name": "stderr",
     "output_type": "stream",
     "text": [
      "                                                          \r"
     ]
    },
    {
     "name": "stdout",
     "output_type": "stream",
     "text": [
      "İşlenen class: parkinglot\n"
     ]
    },
    {
     "name": "stderr",
     "output_type": "stream",
     "text": [
      "                                                            \r"
     ]
    },
    {
     "name": "stdout",
     "output_type": "stream",
     "text": [
      "İşlenen class: river\n"
     ]
    },
    {
     "name": "stderr",
     "output_type": "stream",
     "text": [
      "                                                       \r"
     ]
    },
    {
     "name": "stdout",
     "output_type": "stream",
     "text": [
      "İşlenen class: runway\n"
     ]
    },
    {
     "name": "stderr",
     "output_type": "stream",
     "text": [
      "                                                         \r"
     ]
    },
    {
     "name": "stdout",
     "output_type": "stream",
     "text": [
      "İşlenen class: sparseresidential\n"
     ]
    },
    {
     "name": "stderr",
     "output_type": "stream",
     "text": [
      "                                                                   \r"
     ]
    },
    {
     "name": "stdout",
     "output_type": "stream",
     "text": [
      "İşlenen class: storagetanks\n"
     ]
    },
    {
     "name": "stderr",
     "output_type": "stream",
     "text": [
      "                                                              \r"
     ]
    },
    {
     "name": "stdout",
     "output_type": "stream",
     "text": [
      "İşlenen class: tenniscourt\n"
     ]
    },
    {
     "name": "stderr",
     "output_type": "stream",
     "text": [
      "                                                             "
     ]
    },
    {
     "name": "stdout",
     "output_type": "stream",
     "text": [
      "Toplam örnek: 2100 | Feature boyutu: 1803\n"
     ]
    },
    {
     "name": "stderr",
     "output_type": "stream",
     "text": [
      "\r"
     ]
    }
   ],
   "source": [
    "x_data, y_data = [], []\n",
    "\n",
    "for label, cls in enumerate(class_names):\n",
    "    cls_path = os.path.join(data_dir, cls)\n",
    "    print(\"İşlenen class:\", cls)\n",
    "    for fname in tqdm(os.listdir(cls_path), desc=f\"{cls}\", leave=False):\n",
    "        img_path = os.path.join(cls_path, fname)\n",
    "        img = cv2.imread(img_path)\n",
    "        if img is None:\n",
    "            continue\n",
    "        img = cv2.cvtColor(img, cv2.COLOR_BGR2RGB)\n",
    "        img = cv2.resize(img, (128, 128))\n",
    "        features = extract_features(img)\n",
    "        x_data.append(features)\n",
    "        y_data.append(label)\n",
    "\n",
    "x_data = np.array(x_data)\n",
    "y_data = np.array(y_data)\n",
    "print(\"Toplam örnek:\", len(x_data), \"| Feature boyutu:\",  x_data.shape[1])"
   ]
  },
  {
   "cell_type": "markdown",
   "id": "af6f69c7",
   "metadata": {},
   "source": [
    "## PCA kullanarak boyut azaltımı:\n",
    "`apply_pca` fonksiyonu ile 256 bileşenli PCA uygulanarak özellik vektörlerinin boyutu küçültülür."
   ]
  },
  {
   "cell_type": "code",
   "execution_count": 20,
   "id": "0344bdfa",
   "metadata": {},
   "outputs": [],
   "source": [
    "x_reduced = apply_pca(False, x_data, n_components=256)"
   ]
  },
  {
   "cell_type": "markdown",
   "id": "af125646",
   "metadata": {},
   "source": [
    "## Veriyi bölme ve kaydetme:\n",
    "PCA sonrası özellikler, %80 eğitim ve %20 test olacak şekilde `stratify` ile sınıf dengesi korunarak ayrılır. Elde edilen `x_train`, `y_train`, `x_test`, `y_test` verileri `.npy` formatında kaydedilir."
   ]
  },
  {
   "cell_type": "code",
   "execution_count": 21,
   "id": "db991d18",
   "metadata": {},
   "outputs": [],
   "source": [
    "x_train, x_test, y_train, y_test = train_test_split(x_reduced, y_data, test_size=0.2, stratify=y_data, random_state=42)\n",
    "\n",
    "np.save(\"../../features/uc_merced_x_train.npy\", x_train)\n",
    "np.save(\"../../features/uc_merced_y_train.npy\", y_train)\n",
    "np.save(\"../../features/uc_merced_x_test.npy\", x_test)\n",
    "np.save(\"../../features/uc_merced_y_test.npy\", y_test)"
   ]
  },
  {
   "cell_type": "markdown",
   "id": "f72244b1",
   "metadata": {},
   "source": [
    "## Grid search ile random forest:\n",
    "Random Forest modeli; ağaç sayısı `n_estimators`, maksimum derinlik `max_depth`,  \n",
    "minimum bölünme örnek sayısı `min_samples_split`, özellik seçimi yöntemi `max_features` ve sınıf ağırlıkları  \n",
    "`class_weight` hiperparametreleri ile 5 katlı çapraz doğrulama kullanılarak optimize edilir. En iyi model kaydedilir. `uc_merced_rf.pkl`"
   ]
  },
  {
   "cell_type": "code",
   "execution_count": 6,
   "id": "6127b05c",
   "metadata": {},
   "outputs": [
    {
     "name": "stdout",
     "output_type": "stream",
     "text": [
      "Random Forest eğitimi başladı.\n",
      "Denenecek hiperparametre kombinasyon sayısı: 32\n"
     ]
    },
    {
     "name": "stderr",
     "output_type": "stream",
     "text": [
      "RandomForestClassifier Grid Search:   3%|▎         | 1/32 [00:13<07:05, 13.72s/it]"
     ]
    },
    {
     "name": "stdout",
     "output_type": "stream",
     "text": [
      "Parametreler: {'n_estimators': 200, 'max_depth': None, 'min_samples_split': 2, 'max_features': 'sqrt', 'class_weight': None} | Skor: 0.7107142857142857 | Süre: 13 sn\n"
     ]
    },
    {
     "name": "stderr",
     "output_type": "stream",
     "text": [
      "RandomForestClassifier Grid Search:   6%|▋         | 2/32 [00:26<06:32, 13.10s/it]"
     ]
    },
    {
     "name": "stdout",
     "output_type": "stream",
     "text": [
      "Parametreler: {'n_estimators': 200, 'max_depth': None, 'min_samples_split': 2, 'max_features': 'sqrt', 'class_weight': 'balanced'} | Skor: 0.7107142857142857 | Süre: 12 sn\n"
     ]
    },
    {
     "name": "stderr",
     "output_type": "stream",
     "text": [
      "RandomForestClassifier Grid Search:   9%|▉         | 3/32 [01:10<13:09, 27.23s/it]"
     ]
    },
    {
     "name": "stdout",
     "output_type": "stream",
     "text": [
      "Parametreler: {'n_estimators': 200, 'max_depth': None, 'min_samples_split': 2, 'max_features': 0.3, 'class_weight': None} | Skor: 0.7119047619047619 | Süre: 44 sn\n"
     ]
    },
    {
     "name": "stderr",
     "output_type": "stream",
     "text": [
      "RandomForestClassifier Grid Search:  12%|█▎        | 4/32 [01:55<15:57, 34.21s/it]"
     ]
    },
    {
     "name": "stdout",
     "output_type": "stream",
     "text": [
      "Parametreler: {'n_estimators': 200, 'max_depth': None, 'min_samples_split': 2, 'max_features': 0.3, 'class_weight': 'balanced'} | Skor: 0.7119047619047619 | Süre: 44 sn\n"
     ]
    },
    {
     "name": "stderr",
     "output_type": "stream",
     "text": [
      "RandomForestClassifier Grid Search:  16%|█▌        | 5/32 [02:05<11:31, 25.61s/it]"
     ]
    },
    {
     "name": "stdout",
     "output_type": "stream",
     "text": [
      "Parametreler: {'n_estimators': 200, 'max_depth': None, 'min_samples_split': 5, 'max_features': 'sqrt', 'class_weight': None} | Skor: 0.7214285714285714 | Süre: 10 sn\n"
     ]
    },
    {
     "name": "stderr",
     "output_type": "stream",
     "text": [
      "RandomForestClassifier Grid Search:  19%|█▉        | 6/32 [02:16<08:51, 20.45s/it]"
     ]
    },
    {
     "name": "stdout",
     "output_type": "stream",
     "text": [
      "Parametreler: {'n_estimators': 200, 'max_depth': None, 'min_samples_split': 5, 'max_features': 'sqrt', 'class_weight': 'balanced'} | Skor: 0.7214285714285714 | Süre: 10 sn\n"
     ]
    },
    {
     "name": "stderr",
     "output_type": "stream",
     "text": [
      "RandomForestClassifier Grid Search:  22%|██▏       | 7/32 [02:59<11:37, 27.90s/it]"
     ]
    },
    {
     "name": "stdout",
     "output_type": "stream",
     "text": [
      "Parametreler: {'n_estimators': 200, 'max_depth': None, 'min_samples_split': 5, 'max_features': 0.3, 'class_weight': None} | Skor: 0.7184523809523808 | Süre: 43 sn\n"
     ]
    },
    {
     "name": "stderr",
     "output_type": "stream",
     "text": [
      "RandomForestClassifier Grid Search:  25%|██▌       | 8/32 [03:42<13:04, 32.71s/it]"
     ]
    },
    {
     "name": "stdout",
     "output_type": "stream",
     "text": [
      "Parametreler: {'n_estimators': 200, 'max_depth': None, 'min_samples_split': 5, 'max_features': 0.3, 'class_weight': 'balanced'} | Skor: 0.7184523809523808 | Süre: 42 sn\n"
     ]
    },
    {
     "name": "stderr",
     "output_type": "stream",
     "text": [
      "RandomForestClassifier Grid Search:  28%|██▊       | 9/32 [03:53<09:54, 25.83s/it]"
     ]
    },
    {
     "name": "stdout",
     "output_type": "stream",
     "text": [
      "Parametreler: {'n_estimators': 200, 'max_depth': 25, 'min_samples_split': 2, 'max_features': 'sqrt', 'class_weight': None} | Skor: 0.7136904761904762 | Süre: 10 sn\n"
     ]
    },
    {
     "name": "stderr",
     "output_type": "stream",
     "text": [
      "RandomForestClassifier Grid Search:  31%|███▏      | 10/32 [04:03<07:46, 21.20s/it]"
     ]
    },
    {
     "name": "stdout",
     "output_type": "stream",
     "text": [
      "Parametreler: {'n_estimators': 200, 'max_depth': 25, 'min_samples_split': 2, 'max_features': 'sqrt', 'class_weight': 'balanced'} | Skor: 0.7136904761904762 | Süre: 10 sn\n"
     ]
    },
    {
     "name": "stderr",
     "output_type": "stream",
     "text": [
      "RandomForestClassifier Grid Search:  34%|███▍      | 11/32 [04:48<09:52, 28.23s/it]"
     ]
    },
    {
     "name": "stdout",
     "output_type": "stream",
     "text": [
      "Parametreler: {'n_estimators': 200, 'max_depth': 25, 'min_samples_split': 2, 'max_features': 0.3, 'class_weight': None} | Skor: 0.7041666666666668 | Süre: 44 sn\n"
     ]
    },
    {
     "name": "stderr",
     "output_type": "stream",
     "text": [
      "RandomForestClassifier Grid Search:  38%|███▊      | 12/32 [05:33<11:06, 33.34s/it]"
     ]
    },
    {
     "name": "stdout",
     "output_type": "stream",
     "text": [
      "Parametreler: {'n_estimators': 200, 'max_depth': 25, 'min_samples_split': 2, 'max_features': 0.3, 'class_weight': 'balanced'} | Skor: 0.7041666666666668 | Süre: 45 sn\n"
     ]
    },
    {
     "name": "stderr",
     "output_type": "stream",
     "text": [
      "RandomForestClassifier Grid Search:  41%|████      | 13/32 [05:43<08:22, 26.44s/it]"
     ]
    },
    {
     "name": "stdout",
     "output_type": "stream",
     "text": [
      "Parametreler: {'n_estimators': 200, 'max_depth': 25, 'min_samples_split': 5, 'max_features': 'sqrt', 'class_weight': None} | Skor: 0.7172619047619049 | Süre: 10 sn\n"
     ]
    },
    {
     "name": "stderr",
     "output_type": "stream",
     "text": [
      "RandomForestClassifier Grid Search:  44%|████▍     | 14/32 [05:53<06:27, 21.51s/it]"
     ]
    },
    {
     "name": "stdout",
     "output_type": "stream",
     "text": [
      "Parametreler: {'n_estimators': 200, 'max_depth': 25, 'min_samples_split': 5, 'max_features': 'sqrt', 'class_weight': 'balanced'} | Skor: 0.7172619047619049 | Süre: 10 sn\n"
     ]
    },
    {
     "name": "stderr",
     "output_type": "stream",
     "text": [
      "RandomForestClassifier Grid Search:  47%|████▋     | 15/32 [06:36<07:55, 27.96s/it]"
     ]
    },
    {
     "name": "stdout",
     "output_type": "stream",
     "text": [
      "Parametreler: {'n_estimators': 200, 'max_depth': 25, 'min_samples_split': 5, 'max_features': 0.3, 'class_weight': None} | Skor: 0.7172619047619048 | Süre: 42 sn\n"
     ]
    },
    {
     "name": "stderr",
     "output_type": "stream",
     "text": [
      "RandomForestClassifier Grid Search:  50%|█████     | 16/32 [07:19<08:39, 32.47s/it]"
     ]
    },
    {
     "name": "stdout",
     "output_type": "stream",
     "text": [
      "Parametreler: {'n_estimators': 200, 'max_depth': 25, 'min_samples_split': 5, 'max_features': 0.3, 'class_weight': 'balanced'} | Skor: 0.7172619047619048 | Süre: 42 sn\n"
     ]
    },
    {
     "name": "stderr",
     "output_type": "stream",
     "text": [
      "RandomForestClassifier Grid Search:  53%|█████▎    | 17/32 [07:36<06:56, 27.77s/it]"
     ]
    },
    {
     "name": "stdout",
     "output_type": "stream",
     "text": [
      "Parametreler: {'n_estimators': 300, 'max_depth': None, 'min_samples_split': 2, 'max_features': 'sqrt', 'class_weight': None} | Skor: 0.7345238095238095 | Süre: 16 sn\n"
     ]
    },
    {
     "name": "stderr",
     "output_type": "stream",
     "text": [
      "RandomForestClassifier Grid Search:  56%|█████▋    | 18/32 [07:52<05:40, 24.33s/it]"
     ]
    },
    {
     "name": "stdout",
     "output_type": "stream",
     "text": [
      "Parametreler: {'n_estimators': 300, 'max_depth': None, 'min_samples_split': 2, 'max_features': 'sqrt', 'class_weight': 'balanced'} | Skor: 0.7345238095238095 | Süre: 16 sn\n"
     ]
    },
    {
     "name": "stderr",
     "output_type": "stream",
     "text": [
      "RandomForestClassifier Grid Search:  59%|█████▉    | 19/32 [08:58<07:59, 36.90s/it]"
     ]
    },
    {
     "name": "stdout",
     "output_type": "stream",
     "text": [
      "Parametreler: {'n_estimators': 300, 'max_depth': None, 'min_samples_split': 2, 'max_features': 0.3, 'class_weight': None} | Skor: 0.7148809523809524 | Süre: 1 dk 6 sn\n"
     ]
    },
    {
     "name": "stderr",
     "output_type": "stream",
     "text": [
      "RandomForestClassifier Grid Search:  62%|██████▎   | 20/32 [10:06<09:11, 46.00s/it]"
     ]
    },
    {
     "name": "stdout",
     "output_type": "stream",
     "text": [
      "Parametreler: {'n_estimators': 300, 'max_depth': None, 'min_samples_split': 2, 'max_features': 0.3, 'class_weight': 'balanced'} | Skor: 0.7148809523809524 | Süre: 1 dk 7 sn\n"
     ]
    },
    {
     "name": "stderr",
     "output_type": "stream",
     "text": [
      "RandomForestClassifier Grid Search:  66%|██████▌   | 21/32 [10:21<06:45, 36.89s/it]"
     ]
    },
    {
     "name": "stdout",
     "output_type": "stream",
     "text": [
      "Parametreler: {'n_estimators': 300, 'max_depth': None, 'min_samples_split': 5, 'max_features': 'sqrt', 'class_weight': None} | Skor: 0.7363095238095239 | Süre: 15 sn\n"
     ]
    },
    {
     "name": "stderr",
     "output_type": "stream",
     "text": [
      "RandomForestClassifier Grid Search:  69%|██████▉   | 22/32 [10:39<05:10, 31.08s/it]"
     ]
    },
    {
     "name": "stdout",
     "output_type": "stream",
     "text": [
      "Parametreler: {'n_estimators': 300, 'max_depth': None, 'min_samples_split': 5, 'max_features': 'sqrt', 'class_weight': 'balanced'} | Skor: 0.7363095238095239 | Süre: 17 sn\n"
     ]
    },
    {
     "name": "stderr",
     "output_type": "stream",
     "text": [
      "RandomForestClassifier Grid Search:  72%|███████▏  | 23/32 [11:48<06:23, 42.63s/it]"
     ]
    },
    {
     "name": "stdout",
     "output_type": "stream",
     "text": [
      "Parametreler: {'n_estimators': 300, 'max_depth': None, 'min_samples_split': 5, 'max_features': 0.3, 'class_weight': None} | Skor: 0.7255952380952381 | Süre: 1 dk 9 sn\n"
     ]
    },
    {
     "name": "stderr",
     "output_type": "stream",
     "text": [
      "RandomForestClassifier Grid Search:  75%|███████▌  | 24/32 [12:53<06:34, 49.31s/it]"
     ]
    },
    {
     "name": "stdout",
     "output_type": "stream",
     "text": [
      "Parametreler: {'n_estimators': 300, 'max_depth': None, 'min_samples_split': 5, 'max_features': 0.3, 'class_weight': 'balanced'} | Skor: 0.7255952380952381 | Süre: 1 dk 4 sn\n"
     ]
    },
    {
     "name": "stderr",
     "output_type": "stream",
     "text": [
      "RandomForestClassifier Grid Search:  78%|███████▊  | 25/32 [13:09<04:35, 39.33s/it]"
     ]
    },
    {
     "name": "stdout",
     "output_type": "stream",
     "text": [
      "Parametreler: {'n_estimators': 300, 'max_depth': 25, 'min_samples_split': 2, 'max_features': 'sqrt', 'class_weight': None} | Skor: 0.7357142857142858 | Süre: 16 sn\n"
     ]
    },
    {
     "name": "stderr",
     "output_type": "stream",
     "text": [
      "RandomForestClassifier Grid Search:  81%|████████▏ | 26/32 [13:25<03:14, 32.34s/it]"
     ]
    },
    {
     "name": "stdout",
     "output_type": "stream",
     "text": [
      "Parametreler: {'n_estimators': 300, 'max_depth': 25, 'min_samples_split': 2, 'max_features': 'sqrt', 'class_weight': 'balanced'} | Skor: 0.7357142857142858 | Süre: 16 sn\n"
     ]
    },
    {
     "name": "stderr",
     "output_type": "stream",
     "text": [
      "RandomForestClassifier Grid Search:  84%|████████▍ | 27/32 [14:32<03:32, 42.47s/it]"
     ]
    },
    {
     "name": "stdout",
     "output_type": "stream",
     "text": [
      "Parametreler: {'n_estimators': 300, 'max_depth': 25, 'min_samples_split': 2, 'max_features': 0.3, 'class_weight': None} | Skor: 0.7148809523809524 | Süre: 1 dk 6 sn\n"
     ]
    },
    {
     "name": "stderr",
     "output_type": "stream",
     "text": [
      "RandomForestClassifier Grid Search:  88%|████████▊ | 28/32 [15:39<03:20, 50.10s/it]"
     ]
    },
    {
     "name": "stdout",
     "output_type": "stream",
     "text": [
      "Parametreler: {'n_estimators': 300, 'max_depth': 25, 'min_samples_split': 2, 'max_features': 0.3, 'class_weight': 'balanced'} | Skor: 0.7148809523809524 | Süre: 1 dk 7 sn\n"
     ]
    },
    {
     "name": "stderr",
     "output_type": "stream",
     "text": [
      "RandomForestClassifier Grid Search:  91%|█████████ | 29/32 [15:55<01:59, 39.71s/it]"
     ]
    },
    {
     "name": "stdout",
     "output_type": "stream",
     "text": [
      "Parametreler: {'n_estimators': 300, 'max_depth': 25, 'min_samples_split': 5, 'max_features': 'sqrt', 'class_weight': None} | Skor: 0.7279761904761904 | Süre: 15 sn\n"
     ]
    },
    {
     "name": "stderr",
     "output_type": "stream",
     "text": [
      "RandomForestClassifier Grid Search:  94%|█████████▍| 30/32 [16:10<01:04, 32.39s/it]"
     ]
    },
    {
     "name": "stdout",
     "output_type": "stream",
     "text": [
      "Parametreler: {'n_estimators': 300, 'max_depth': 25, 'min_samples_split': 5, 'max_features': 'sqrt', 'class_weight': 'balanced'} | Skor: 0.7279761904761904 | Süre: 15 sn\n"
     ]
    },
    {
     "name": "stderr",
     "output_type": "stream",
     "text": [
      "RandomForestClassifier Grid Search:  97%|█████████▋| 31/32 [17:14<00:41, 41.90s/it]"
     ]
    },
    {
     "name": "stdout",
     "output_type": "stream",
     "text": [
      "Parametreler: {'n_estimators': 300, 'max_depth': 25, 'min_samples_split': 5, 'max_features': 0.3, 'class_weight': None} | Skor: 0.7273809523809524 | Süre: 1 dk 4 sn\n"
     ]
    },
    {
     "name": "stderr",
     "output_type": "stream",
     "text": [
      "RandomForestClassifier Grid Search: 100%|██████████| 32/32 [18:19<00:00, 34.37s/it]"
     ]
    },
    {
     "name": "stdout",
     "output_type": "stream",
     "text": [
      "Parametreler: {'n_estimators': 300, 'max_depth': 25, 'min_samples_split': 5, 'max_features': 0.3, 'class_weight': 'balanced'} | Skor: 0.7273809523809524 | Süre: 1 dk 5 sn\n"
     ]
    },
    {
     "name": "stderr",
     "output_type": "stream",
     "text": [
      "\n"
     ]
    },
    {
     "name": "stdout",
     "output_type": "stream",
     "text": [
      "Random Forest için en iyi skor: 0.7363095238095239 | Parametreler: {'n_estimators': 300, 'max_depth': None, 'min_samples_split': 5, 'max_features': 'sqrt', 'class_weight': None} | Toplam Süre: 18 dk 19 sn \n",
      "\n"
     ]
    }
   ],
   "source": [
    "model = RandomForestClassifier(random_state=42)\n",
    "params = {\n",
    "    \"n_estimators\": [200, 300],\n",
    "    \"max_depth\": [None, 25],\n",
    "    \"min_samples_split\": [2, 5],\n",
    "    \"max_features\": [\"sqrt\", 0.3],\n",
    "    \"class_weight\": [None, \"balanced\"]\n",
    "}\n",
    "\n",
    "print(\"Random Forest eğitimi başladı.\")\n",
    "best_model, best_score, best_params, total_time = grid_search(model, params, x_train, y_train, cv=5)\n",
    "joblib.dump(best_model, \"../../models/ml_features/uc_merced_rf.pkl\")\n",
    "print(\"Random Forest için en iyi skor:\", best_score, \"| Parametreler:\", best_params, \"| Toplam Süre:\", total_time, \"\\n\")"
   ]
  },
  {
   "cell_type": "markdown",
   "id": "f1f3cf50",
   "metadata": {},
   "source": [
    "## Grid search ile HistGradientBoosting:\n",
    "HistGradientBoosting modeli için öğrenme oranı `learning_rate`, maksimum derinlik `max_depth`,  \n",
    "yaprak düğüm sayısı `max_leaf_nodes`, yaprak başına minimum örnek sayısı `min_samples_leaf`  \n",
    "ve L2 düzenleme katsayısı `l2_regularization` hiperparametreleri 5 katlı çapraz doğrulama ile taranır.  \n",
    "En iyi model kaydedilir. `uc_merced_hgb.pkl`"
   ]
  },
  {
   "cell_type": "code",
   "execution_count": 7,
   "id": "b7ee34a3",
   "metadata": {},
   "outputs": [
    {
     "name": "stdout",
     "output_type": "stream",
     "text": [
      "HistGradientBoosting eğitimi başladı.\n",
      "Denenecek hiperparametre kombinasyon sayısı: 8\n"
     ]
    },
    {
     "name": "stderr",
     "output_type": "stream",
     "text": [
      "HistGradientBoostingClassifier Grid Search:  12%|█▎        | 1/8 [01:24<09:51, 84.48s/it]"
     ]
    },
    {
     "name": "stdout",
     "output_type": "stream",
     "text": [
      "Parametreler: {'learning_rate': 0.1, 'max_depth': 8, 'max_leaf_nodes': 63, 'min_samples_leaf': 20, 'l2_regularization': 1.0} | Skor: 0.7178571428571429 | Süre: 1 dk 24 sn\n"
     ]
    },
    {
     "name": "stderr",
     "output_type": "stream",
     "text": [
      "HistGradientBoostingClassifier Grid Search:  25%|██▌       | 2/8 [02:52<08:40, 86.78s/it]"
     ]
    },
    {
     "name": "stdout",
     "output_type": "stream",
     "text": [
      "Parametreler: {'learning_rate': 0.1, 'max_depth': 8, 'max_leaf_nodes': 127, 'min_samples_leaf': 20, 'l2_regularization': 1.0} | Skor: 0.7178571428571429 | Süre: 1 dk 28 sn\n"
     ]
    },
    {
     "name": "stderr",
     "output_type": "stream",
     "text": [
      "HistGradientBoostingClassifier Grid Search:  38%|███▊      | 3/8 [04:17<07:09, 85.82s/it]"
     ]
    },
    {
     "name": "stdout",
     "output_type": "stream",
     "text": [
      "Parametreler: {'learning_rate': 0.1, 'max_depth': 12, 'max_leaf_nodes': 63, 'min_samples_leaf': 20, 'l2_regularization': 1.0} | Skor: 0.7232142857142858 | Süre: 1 dk 24 sn\n"
     ]
    },
    {
     "name": "stderr",
     "output_type": "stream",
     "text": [
      "HistGradientBoostingClassifier Grid Search:  50%|█████     | 4/8 [05:43<05:44, 86.05s/it]"
     ]
    },
    {
     "name": "stdout",
     "output_type": "stream",
     "text": [
      "Parametreler: {'learning_rate': 0.1, 'max_depth': 12, 'max_leaf_nodes': 127, 'min_samples_leaf': 20, 'l2_regularization': 1.0} | Skor: 0.7232142857142858 | Süre: 1 dk 26 sn\n"
     ]
    },
    {
     "name": "stderr",
     "output_type": "stream",
     "text": [
      "HistGradientBoostingClassifier Grid Search:  62%|██████▎   | 5/8 [07:11<04:19, 86.41s/it]"
     ]
    },
    {
     "name": "stdout",
     "output_type": "stream",
     "text": [
      "Parametreler: {'learning_rate': 0.2, 'max_depth': 8, 'max_leaf_nodes': 63, 'min_samples_leaf': 20, 'l2_regularization': 1.0} | Skor: 0.7214285714285714 | Süre: 1 dk 27 sn\n"
     ]
    },
    {
     "name": "stderr",
     "output_type": "stream",
     "text": [
      "HistGradientBoostingClassifier Grid Search:  75%|███████▌  | 6/8 [08:38<02:53, 86.93s/it]"
     ]
    },
    {
     "name": "stdout",
     "output_type": "stream",
     "text": [
      "Parametreler: {'learning_rate': 0.2, 'max_depth': 8, 'max_leaf_nodes': 127, 'min_samples_leaf': 20, 'l2_regularization': 1.0} | Skor: 0.7214285714285714 | Süre: 1 dk 27 sn\n"
     ]
    },
    {
     "name": "stderr",
     "output_type": "stream",
     "text": [
      "HistGradientBoostingClassifier Grid Search:  88%|████████▊ | 7/8 [10:06<01:27, 87.09s/it]"
     ]
    },
    {
     "name": "stdout",
     "output_type": "stream",
     "text": [
      "Parametreler: {'learning_rate': 0.2, 'max_depth': 12, 'max_leaf_nodes': 63, 'min_samples_leaf': 20, 'l2_regularization': 1.0} | Skor: 0.7291666666666666 | Süre: 1 dk 27 sn\n"
     ]
    },
    {
     "name": "stderr",
     "output_type": "stream",
     "text": [
      "HistGradientBoostingClassifier Grid Search: 100%|██████████| 8/8 [11:34<00:00, 86.76s/it]\n"
     ]
    },
    {
     "name": "stdout",
     "output_type": "stream",
     "text": [
      "Parametreler: {'learning_rate': 0.2, 'max_depth': 12, 'max_leaf_nodes': 127, 'min_samples_leaf': 20, 'l2_regularization': 1.0} | Skor: 0.7291666666666666 | Süre: 1 dk 27 sn\n",
      "HistGradientBoosting  için en iyi skor: 0.7291666666666666 | Parametreler: {'learning_rate': 0.2, 'max_depth': 12, 'max_leaf_nodes': 63, 'min_samples_leaf': 20, 'l2_regularization': 1.0} | Toplam Süre: 11 dk 34 sn \n",
      "\n"
     ]
    }
   ],
   "source": [
    "model = HistGradientBoostingClassifier(random_state=42)\n",
    "params = {\n",
    "    \"learning_rate\": [0.1, 0.2],\n",
    "    \"max_depth\": [8, 12],\n",
    "    \"max_leaf_nodes\": [63, 127],\n",
    "    \"min_samples_leaf\": [20],\n",
    "    \"l2_regularization\": [1.0]\n",
    "}\n",
    "\n",
    "print(\"HistGradientBoosting eğitimi başladı.\")\n",
    "best_model, best_score, best_params, total_time = grid_search(model, params, x_train, y_train, cv=5)\n",
    "joblib.dump(best_model, \"../../models/ml_features/uc_merced_hgb.pkl\")\n",
    "print(\"HistGradientBoosting  için en iyi skor:\", best_score, \"| Parametreler:\", best_params, \"| Toplam Süre:\", total_time, \"\\n\")"
   ]
  },
  {
   "cell_type": "markdown",
   "id": "7d3a42a9",
   "metadata": {},
   "source": [
    "## Grid search ile multilayer perceptron:\n",
    "Veriler `StandardScaler` ile ölçeklendirilir. MLP modeli; gizli katman boyutları `hidden_layer_sizes`, düzenleme katsayısı `alpha`, öğrenme oranı `learning_rate_init`, çözücü `solver` ve aktivasyon fonksiyonu `activation` hiperparametreleri için 5 katlı çapraz doğrulama ile optimize edilir. En iyi model kaydedilir. `uc_merced_mlp.pkl`"
   ]
  },
  {
   "cell_type": "code",
   "execution_count": 23,
   "id": "433874af",
   "metadata": {},
   "outputs": [
    {
     "name": "stdout",
     "output_type": "stream",
     "text": [
      "Multilayer Perceptron eğitimi başladı.\n",
      "Denenecek hiperparametre kombinasyon sayısı: 96\n"
     ]
    },
    {
     "name": "stderr",
     "output_type": "stream",
     "text": [
      "MLPClassifier Grid Search:   1%|          | 1/96 [00:02<04:01,  2.54s/it]"
     ]
    },
    {
     "name": "stdout",
     "output_type": "stream",
     "text": [
      "Parametreler: {'hidden_layer_sizes': (512,), 'alpha': 0.0001, 'learning_rate_init': 0.0005, 'solver': 'lbfgs', 'activation': 'relu'} | Skor: 0.5571428571428572 | Süre: 2 sn\n"
     ]
    },
    {
     "name": "stderr",
     "output_type": "stream",
     "text": [
      "MLPClassifier Grid Search:   2%|▏         | 2/96 [00:05<03:58,  2.54s/it]"
     ]
    },
    {
     "name": "stdout",
     "output_type": "stream",
     "text": [
      "Parametreler: {'hidden_layer_sizes': (512,), 'alpha': 0.0001, 'learning_rate_init': 0.001, 'solver': 'lbfgs', 'activation': 'relu'} | Skor: 0.5571428571428572 | Süre: 2 sn\n"
     ]
    },
    {
     "name": "stderr",
     "output_type": "stream",
     "text": [
      "MLPClassifier Grid Search:   3%|▎         | 3/96 [00:07<03:50,  2.48s/it]"
     ]
    },
    {
     "name": "stdout",
     "output_type": "stream",
     "text": [
      "Parametreler: {'hidden_layer_sizes': (512,), 'alpha': 0.0001, 'learning_rate_init': 0.002, 'solver': 'lbfgs', 'activation': 'relu'} | Skor: 0.5571428571428572 | Süre: 2 sn\n"
     ]
    },
    {
     "name": "stderr",
     "output_type": "stream",
     "text": [
      "MLPClassifier Grid Search:   4%|▍         | 4/96 [00:10<03:59,  2.61s/it]"
     ]
    },
    {
     "name": "stdout",
     "output_type": "stream",
     "text": [
      "Parametreler: {'hidden_layer_sizes': (512,), 'alpha': 0.0003, 'learning_rate_init': 0.0005, 'solver': 'lbfgs', 'activation': 'relu'} | Skor: 0.5553571428571429 | Süre: 2 sn\n"
     ]
    },
    {
     "name": "stderr",
     "output_type": "stream",
     "text": [
      "MLPClassifier Grid Search:   5%|▌         | 5/96 [00:12<03:58,  2.62s/it]"
     ]
    },
    {
     "name": "stdout",
     "output_type": "stream",
     "text": [
      "Parametreler: {'hidden_layer_sizes': (512,), 'alpha': 0.0003, 'learning_rate_init': 0.001, 'solver': 'lbfgs', 'activation': 'relu'} | Skor: 0.5553571428571429 | Süre: 2 sn\n"
     ]
    },
    {
     "name": "stderr",
     "output_type": "stream",
     "text": [
      "MLPClassifier Grid Search:   6%|▋         | 6/96 [00:15<04:04,  2.72s/it]"
     ]
    },
    {
     "name": "stdout",
     "output_type": "stream",
     "text": [
      "Parametreler: {'hidden_layer_sizes': (512,), 'alpha': 0.0003, 'learning_rate_init': 0.002, 'solver': 'lbfgs', 'activation': 'relu'} | Skor: 0.5553571428571429 | Süre: 2 sn\n"
     ]
    },
    {
     "name": "stderr",
     "output_type": "stream",
     "text": [
      "MLPClassifier Grid Search:   7%|▋         | 7/96 [00:18<04:06,  2.77s/it]"
     ]
    },
    {
     "name": "stdout",
     "output_type": "stream",
     "text": [
      "Parametreler: {'hidden_layer_sizes': (512,), 'alpha': 0.0005, 'learning_rate_init': 0.0005, 'solver': 'lbfgs', 'activation': 'relu'} | Skor: 0.5583333333333333 | Süre: 2 sn\n"
     ]
    },
    {
     "name": "stderr",
     "output_type": "stream",
     "text": [
      "MLPClassifier Grid Search:   8%|▊         | 8/96 [00:21<03:53,  2.65s/it]"
     ]
    },
    {
     "name": "stdout",
     "output_type": "stream",
     "text": [
      "Parametreler: {'hidden_layer_sizes': (512,), 'alpha': 0.0005, 'learning_rate_init': 0.001, 'solver': 'lbfgs', 'activation': 'relu'} | Skor: 0.5583333333333333 | Süre: 2 sn\n"
     ]
    },
    {
     "name": "stderr",
     "output_type": "stream",
     "text": [
      "MLPClassifier Grid Search:   9%|▉         | 9/96 [00:23<03:37,  2.50s/it]"
     ]
    },
    {
     "name": "stdout",
     "output_type": "stream",
     "text": [
      "Parametreler: {'hidden_layer_sizes': (512,), 'alpha': 0.0005, 'learning_rate_init': 0.002, 'solver': 'lbfgs', 'activation': 'relu'} | Skor: 0.5583333333333333 | Süre: 2 sn\n"
     ]
    },
    {
     "name": "stderr",
     "output_type": "stream",
     "text": [
      "MLPClassifier Grid Search:  10%|█         | 10/96 [00:25<03:30,  2.45s/it]"
     ]
    },
    {
     "name": "stdout",
     "output_type": "stream",
     "text": [
      "Parametreler: {'hidden_layer_sizes': (512,), 'alpha': 0.0007, 'learning_rate_init': 0.0005, 'solver': 'lbfgs', 'activation': 'relu'} | Skor: 0.5607142857142857 | Süre: 2 sn\n"
     ]
    },
    {
     "name": "stderr",
     "output_type": "stream",
     "text": [
      "MLPClassifier Grid Search:  11%|█▏        | 11/96 [00:28<03:29,  2.46s/it]"
     ]
    },
    {
     "name": "stdout",
     "output_type": "stream",
     "text": [
      "Parametreler: {'hidden_layer_sizes': (512,), 'alpha': 0.0007, 'learning_rate_init': 0.001, 'solver': 'lbfgs', 'activation': 'relu'} | Skor: 0.5607142857142857 | Süre: 2 sn\n"
     ]
    },
    {
     "name": "stderr",
     "output_type": "stream",
     "text": [
      "MLPClassifier Grid Search:  12%|█▎        | 12/96 [00:30<03:28,  2.48s/it]"
     ]
    },
    {
     "name": "stdout",
     "output_type": "stream",
     "text": [
      "Parametreler: {'hidden_layer_sizes': (512,), 'alpha': 0.0007, 'learning_rate_init': 0.002, 'solver': 'lbfgs', 'activation': 'relu'} | Skor: 0.5607142857142857 | Süre: 2 sn\n"
     ]
    },
    {
     "name": "stderr",
     "output_type": "stream",
     "text": [
      "MLPClassifier Grid Search:  14%|█▎        | 13/96 [00:33<03:25,  2.47s/it]"
     ]
    },
    {
     "name": "stdout",
     "output_type": "stream",
     "text": [
      "Parametreler: {'hidden_layer_sizes': (600,), 'alpha': 0.0001, 'learning_rate_init': 0.0005, 'solver': 'lbfgs', 'activation': 'relu'} | Skor: 0.5583333333333333 | Süre: 2 sn\n"
     ]
    },
    {
     "name": "stderr",
     "output_type": "stream",
     "text": [
      "MLPClassifier Grid Search:  15%|█▍        | 14/96 [00:35<03:20,  2.45s/it]"
     ]
    },
    {
     "name": "stdout",
     "output_type": "stream",
     "text": [
      "Parametreler: {'hidden_layer_sizes': (600,), 'alpha': 0.0001, 'learning_rate_init': 0.001, 'solver': 'lbfgs', 'activation': 'relu'} | Skor: 0.5583333333333333 | Süre: 2 sn\n"
     ]
    },
    {
     "name": "stderr",
     "output_type": "stream",
     "text": [
      "MLPClassifier Grid Search:  16%|█▌        | 15/96 [00:37<03:17,  2.44s/it]"
     ]
    },
    {
     "name": "stdout",
     "output_type": "stream",
     "text": [
      "Parametreler: {'hidden_layer_sizes': (600,), 'alpha': 0.0001, 'learning_rate_init': 0.002, 'solver': 'lbfgs', 'activation': 'relu'} | Skor: 0.5583333333333333 | Süre: 2 sn\n"
     ]
    },
    {
     "name": "stderr",
     "output_type": "stream",
     "text": [
      "MLPClassifier Grid Search:  17%|█▋        | 16/96 [00:40<03:15,  2.45s/it]"
     ]
    },
    {
     "name": "stdout",
     "output_type": "stream",
     "text": [
      "Parametreler: {'hidden_layer_sizes': (600,), 'alpha': 0.0003, 'learning_rate_init': 0.0005, 'solver': 'lbfgs', 'activation': 'relu'} | Skor: 0.5607142857142857 | Süre: 2 sn\n"
     ]
    },
    {
     "name": "stderr",
     "output_type": "stream",
     "text": [
      "MLPClassifier Grid Search:  18%|█▊        | 17/96 [00:42<03:08,  2.39s/it]"
     ]
    },
    {
     "name": "stdout",
     "output_type": "stream",
     "text": [
      "Parametreler: {'hidden_layer_sizes': (600,), 'alpha': 0.0003, 'learning_rate_init': 0.001, 'solver': 'lbfgs', 'activation': 'relu'} | Skor: 0.5607142857142857 | Süre: 2 sn\n"
     ]
    },
    {
     "name": "stderr",
     "output_type": "stream",
     "text": [
      "MLPClassifier Grid Search:  19%|█▉        | 18/96 [00:45<03:08,  2.42s/it]"
     ]
    },
    {
     "name": "stdout",
     "output_type": "stream",
     "text": [
      "Parametreler: {'hidden_layer_sizes': (600,), 'alpha': 0.0003, 'learning_rate_init': 0.002, 'solver': 'lbfgs', 'activation': 'relu'} | Skor: 0.5607142857142857 | Süre: 2 sn\n"
     ]
    },
    {
     "name": "stderr",
     "output_type": "stream",
     "text": [
      "MLPClassifier Grid Search:  20%|█▉        | 19/96 [00:47<03:14,  2.52s/it]"
     ]
    },
    {
     "name": "stdout",
     "output_type": "stream",
     "text": [
      "Parametreler: {'hidden_layer_sizes': (600,), 'alpha': 0.0005, 'learning_rate_init': 0.0005, 'solver': 'lbfgs', 'activation': 'relu'} | Skor: 0.5589285714285714 | Süre: 2 sn\n"
     ]
    },
    {
     "name": "stderr",
     "output_type": "stream",
     "text": [
      "MLPClassifier Grid Search:  21%|██        | 20/96 [00:50<03:19,  2.62s/it]"
     ]
    },
    {
     "name": "stdout",
     "output_type": "stream",
     "text": [
      "Parametreler: {'hidden_layer_sizes': (600,), 'alpha': 0.0005, 'learning_rate_init': 0.001, 'solver': 'lbfgs', 'activation': 'relu'} | Skor: 0.5589285714285714 | Süre: 2 sn\n"
     ]
    },
    {
     "name": "stderr",
     "output_type": "stream",
     "text": [
      "MLPClassifier Grid Search:  22%|██▏       | 21/96 [00:53<03:22,  2.71s/it]"
     ]
    },
    {
     "name": "stdout",
     "output_type": "stream",
     "text": [
      "Parametreler: {'hidden_layer_sizes': (600,), 'alpha': 0.0005, 'learning_rate_init': 0.002, 'solver': 'lbfgs', 'activation': 'relu'} | Skor: 0.5589285714285714 | Süre: 2 sn\n"
     ]
    },
    {
     "name": "stderr",
     "output_type": "stream",
     "text": [
      "MLPClassifier Grid Search:  23%|██▎       | 22/96 [00:56<03:15,  2.64s/it]"
     ]
    },
    {
     "name": "stdout",
     "output_type": "stream",
     "text": [
      "Parametreler: {'hidden_layer_sizes': (600,), 'alpha': 0.0007, 'learning_rate_init': 0.0005, 'solver': 'lbfgs', 'activation': 'relu'} | Skor: 0.5607142857142857 | Süre: 2 sn\n"
     ]
    },
    {
     "name": "stderr",
     "output_type": "stream",
     "text": [
      "MLPClassifier Grid Search:  24%|██▍       | 23/96 [00:58<03:11,  2.62s/it]"
     ]
    },
    {
     "name": "stdout",
     "output_type": "stream",
     "text": [
      "Parametreler: {'hidden_layer_sizes': (600,), 'alpha': 0.0007, 'learning_rate_init': 0.001, 'solver': 'lbfgs', 'activation': 'relu'} | Skor: 0.5607142857142857 | Süre: 2 sn\n"
     ]
    },
    {
     "name": "stderr",
     "output_type": "stream",
     "text": [
      "MLPClassifier Grid Search:  25%|██▌       | 24/96 [01:01<03:11,  2.66s/it]"
     ]
    },
    {
     "name": "stdout",
     "output_type": "stream",
     "text": [
      "Parametreler: {'hidden_layer_sizes': (600,), 'alpha': 0.0007, 'learning_rate_init': 0.002, 'solver': 'lbfgs', 'activation': 'relu'} | Skor: 0.5607142857142857 | Süre: 2 sn\n"
     ]
    },
    {
     "name": "stderr",
     "output_type": "stream",
     "text": [
      "MLPClassifier Grid Search:  26%|██▌       | 25/96 [01:04<03:20,  2.82s/it]"
     ]
    },
    {
     "name": "stdout",
     "output_type": "stream",
     "text": [
      "Parametreler: {'hidden_layer_sizes': (700,), 'alpha': 0.0001, 'learning_rate_init': 0.0005, 'solver': 'lbfgs', 'activation': 'relu'} | Skor: 0.5714285714285714 | Süre: 3 sn\n"
     ]
    },
    {
     "name": "stderr",
     "output_type": "stream",
     "text": [
      "MLPClassifier Grid Search:  27%|██▋       | 26/96 [01:07<03:20,  2.87s/it]"
     ]
    },
    {
     "name": "stdout",
     "output_type": "stream",
     "text": [
      "Parametreler: {'hidden_layer_sizes': (700,), 'alpha': 0.0001, 'learning_rate_init': 0.001, 'solver': 'lbfgs', 'activation': 'relu'} | Skor: 0.5714285714285714 | Süre: 2 sn\n"
     ]
    },
    {
     "name": "stderr",
     "output_type": "stream",
     "text": [
      "MLPClassifier Grid Search:  28%|██▊       | 27/96 [01:10<03:18,  2.87s/it]"
     ]
    },
    {
     "name": "stdout",
     "output_type": "stream",
     "text": [
      "Parametreler: {'hidden_layer_sizes': (700,), 'alpha': 0.0001, 'learning_rate_init': 0.002, 'solver': 'lbfgs', 'activation': 'relu'} | Skor: 0.5714285714285714 | Süre: 2 sn\n"
     ]
    },
    {
     "name": "stderr",
     "output_type": "stream",
     "text": [
      "MLPClassifier Grid Search:  29%|██▉       | 28/96 [01:13<03:24,  3.01s/it]"
     ]
    },
    {
     "name": "stdout",
     "output_type": "stream",
     "text": [
      "Parametreler: {'hidden_layer_sizes': (700,), 'alpha': 0.0003, 'learning_rate_init': 0.0005, 'solver': 'lbfgs', 'activation': 'relu'} | Skor: 0.5738095238095238 | Süre: 3 sn\n"
     ]
    },
    {
     "name": "stderr",
     "output_type": "stream",
     "text": [
      "MLPClassifier Grid Search:  30%|███       | 29/96 [01:17<03:33,  3.19s/it]"
     ]
    },
    {
     "name": "stdout",
     "output_type": "stream",
     "text": [
      "Parametreler: {'hidden_layer_sizes': (700,), 'alpha': 0.0003, 'learning_rate_init': 0.001, 'solver': 'lbfgs', 'activation': 'relu'} | Skor: 0.5738095238095238 | Süre: 3 sn\n"
     ]
    },
    {
     "name": "stderr",
     "output_type": "stream",
     "text": [
      "MLPClassifier Grid Search:  31%|███▏      | 30/96 [01:20<03:36,  3.27s/it]"
     ]
    },
    {
     "name": "stdout",
     "output_type": "stream",
     "text": [
      "Parametreler: {'hidden_layer_sizes': (700,), 'alpha': 0.0003, 'learning_rate_init': 0.002, 'solver': 'lbfgs', 'activation': 'relu'} | Skor: 0.5738095238095238 | Süre: 3 sn\n"
     ]
    },
    {
     "name": "stderr",
     "output_type": "stream",
     "text": [
      "MLPClassifier Grid Search:  32%|███▏      | 31/96 [01:24<03:30,  3.24s/it]"
     ]
    },
    {
     "name": "stdout",
     "output_type": "stream",
     "text": [
      "Parametreler: {'hidden_layer_sizes': (700,), 'alpha': 0.0005, 'learning_rate_init': 0.0005, 'solver': 'lbfgs', 'activation': 'relu'} | Skor: 0.5744047619047619 | Süre: 3 sn\n"
     ]
    },
    {
     "name": "stderr",
     "output_type": "stream",
     "text": [
      "MLPClassifier Grid Search:  33%|███▎      | 32/96 [01:27<03:28,  3.26s/it]"
     ]
    },
    {
     "name": "stdout",
     "output_type": "stream",
     "text": [
      "Parametreler: {'hidden_layer_sizes': (700,), 'alpha': 0.0005, 'learning_rate_init': 0.001, 'solver': 'lbfgs', 'activation': 'relu'} | Skor: 0.5744047619047619 | Süre: 3 sn\n"
     ]
    },
    {
     "name": "stderr",
     "output_type": "stream",
     "text": [
      "MLPClassifier Grid Search:  34%|███▍      | 33/96 [01:30<03:23,  3.23s/it]"
     ]
    },
    {
     "name": "stdout",
     "output_type": "stream",
     "text": [
      "Parametreler: {'hidden_layer_sizes': (700,), 'alpha': 0.0005, 'learning_rate_init': 0.002, 'solver': 'lbfgs', 'activation': 'relu'} | Skor: 0.5744047619047619 | Süre: 3 sn\n"
     ]
    },
    {
     "name": "stderr",
     "output_type": "stream",
     "text": [
      "MLPClassifier Grid Search:  35%|███▌      | 34/96 [01:33<03:17,  3.19s/it]"
     ]
    },
    {
     "name": "stdout",
     "output_type": "stream",
     "text": [
      "Parametreler: {'hidden_layer_sizes': (700,), 'alpha': 0.0007, 'learning_rate_init': 0.0005, 'solver': 'lbfgs', 'activation': 'relu'} | Skor: 0.5732142857142857 | Süre: 3 sn\n"
     ]
    },
    {
     "name": "stderr",
     "output_type": "stream",
     "text": [
      "MLPClassifier Grid Search:  36%|███▋      | 35/96 [01:36<03:09,  3.11s/it]"
     ]
    },
    {
     "name": "stdout",
     "output_type": "stream",
     "text": [
      "Parametreler: {'hidden_layer_sizes': (700,), 'alpha': 0.0007, 'learning_rate_init': 0.001, 'solver': 'lbfgs', 'activation': 'relu'} | Skor: 0.5732142857142857 | Süre: 2 sn\n"
     ]
    },
    {
     "name": "stderr",
     "output_type": "stream",
     "text": [
      "MLPClassifier Grid Search:  38%|███▊      | 36/96 [01:39<03:06,  3.11s/it]"
     ]
    },
    {
     "name": "stdout",
     "output_type": "stream",
     "text": [
      "Parametreler: {'hidden_layer_sizes': (700,), 'alpha': 0.0007, 'learning_rate_init': 0.002, 'solver': 'lbfgs', 'activation': 'relu'} | Skor: 0.5732142857142857 | Süre: 3 sn\n"
     ]
    },
    {
     "name": "stderr",
     "output_type": "stream",
     "text": [
      "MLPClassifier Grid Search:  39%|███▊      | 37/96 [01:43<03:14,  3.30s/it]"
     ]
    },
    {
     "name": "stdout",
     "output_type": "stream",
     "text": [
      "Parametreler: {'hidden_layer_sizes': (800,), 'alpha': 0.0001, 'learning_rate_init': 0.0005, 'solver': 'lbfgs', 'activation': 'relu'} | Skor: 0.5619047619047619 | Süre: 3 sn\n"
     ]
    },
    {
     "name": "stderr",
     "output_type": "stream",
     "text": [
      "MLPClassifier Grid Search:  40%|███▉      | 38/96 [01:47<03:26,  3.57s/it]"
     ]
    },
    {
     "name": "stdout",
     "output_type": "stream",
     "text": [
      "Parametreler: {'hidden_layer_sizes': (800,), 'alpha': 0.0001, 'learning_rate_init': 0.001, 'solver': 'lbfgs', 'activation': 'relu'} | Skor: 0.5619047619047619 | Süre: 4 sn\n"
     ]
    },
    {
     "name": "stderr",
     "output_type": "stream",
     "text": [
      "MLPClassifier Grid Search:  41%|████      | 39/96 [01:52<03:40,  3.86s/it]"
     ]
    },
    {
     "name": "stdout",
     "output_type": "stream",
     "text": [
      "Parametreler: {'hidden_layer_sizes': (800,), 'alpha': 0.0001, 'learning_rate_init': 0.002, 'solver': 'lbfgs', 'activation': 'relu'} | Skor: 0.5619047619047619 | Süre: 4 sn\n"
     ]
    },
    {
     "name": "stderr",
     "output_type": "stream",
     "text": [
      "MLPClassifier Grid Search:  42%|████▏     | 40/96 [01:56<03:39,  3.91s/it]"
     ]
    },
    {
     "name": "stdout",
     "output_type": "stream",
     "text": [
      "Parametreler: {'hidden_layer_sizes': (800,), 'alpha': 0.0003, 'learning_rate_init': 0.0005, 'solver': 'lbfgs', 'activation': 'relu'} | Skor: 0.5636904761904762 | Süre: 4 sn\n"
     ]
    },
    {
     "name": "stderr",
     "output_type": "stream",
     "text": [
      "MLPClassifier Grid Search:  43%|████▎     | 41/96 [02:00<03:41,  4.03s/it]"
     ]
    },
    {
     "name": "stdout",
     "output_type": "stream",
     "text": [
      "Parametreler: {'hidden_layer_sizes': (800,), 'alpha': 0.0003, 'learning_rate_init': 0.001, 'solver': 'lbfgs', 'activation': 'relu'} | Skor: 0.5636904761904762 | Süre: 4 sn\n"
     ]
    },
    {
     "name": "stderr",
     "output_type": "stream",
     "text": [
      "MLPClassifier Grid Search:  44%|████▍     | 42/96 [02:04<03:42,  4.12s/it]"
     ]
    },
    {
     "name": "stdout",
     "output_type": "stream",
     "text": [
      "Parametreler: {'hidden_layer_sizes': (800,), 'alpha': 0.0003, 'learning_rate_init': 0.002, 'solver': 'lbfgs', 'activation': 'relu'} | Skor: 0.5636904761904762 | Süre: 4 sn\n"
     ]
    },
    {
     "name": "stderr",
     "output_type": "stream",
     "text": [
      "MLPClassifier Grid Search:  45%|████▍     | 43/96 [02:08<03:36,  4.08s/it]"
     ]
    },
    {
     "name": "stdout",
     "output_type": "stream",
     "text": [
      "Parametreler: {'hidden_layer_sizes': (800,), 'alpha': 0.0005, 'learning_rate_init': 0.0005, 'solver': 'lbfgs', 'activation': 'relu'} | Skor: 0.5648809523809524 | Süre: 3 sn\n"
     ]
    },
    {
     "name": "stderr",
     "output_type": "stream",
     "text": [
      "MLPClassifier Grid Search:  46%|████▌     | 44/96 [02:12<03:24,  3.92s/it]"
     ]
    },
    {
     "name": "stdout",
     "output_type": "stream",
     "text": [
      "Parametreler: {'hidden_layer_sizes': (800,), 'alpha': 0.0005, 'learning_rate_init': 0.001, 'solver': 'lbfgs', 'activation': 'relu'} | Skor: 0.5648809523809524 | Süre: 3 sn\n"
     ]
    },
    {
     "name": "stderr",
     "output_type": "stream",
     "text": [
      "MLPClassifier Grid Search:  47%|████▋     | 45/96 [02:16<03:18,  3.90s/it]"
     ]
    },
    {
     "name": "stdout",
     "output_type": "stream",
     "text": [
      "Parametreler: {'hidden_layer_sizes': (800,), 'alpha': 0.0005, 'learning_rate_init': 0.002, 'solver': 'lbfgs', 'activation': 'relu'} | Skor: 0.5648809523809524 | Süre: 3 sn\n"
     ]
    },
    {
     "name": "stderr",
     "output_type": "stream",
     "text": [
      "MLPClassifier Grid Search:  48%|████▊     | 46/96 [02:21<03:29,  4.19s/it]"
     ]
    },
    {
     "name": "stdout",
     "output_type": "stream",
     "text": [
      "Parametreler: {'hidden_layer_sizes': (800,), 'alpha': 0.0007, 'learning_rate_init': 0.0005, 'solver': 'lbfgs', 'activation': 'relu'} | Skor: 0.5630952380952381 | Süre: 4 sn\n"
     ]
    },
    {
     "name": "stderr",
     "output_type": "stream",
     "text": [
      "MLPClassifier Grid Search:  49%|████▉     | 47/96 [02:25<03:26,  4.22s/it]"
     ]
    },
    {
     "name": "stdout",
     "output_type": "stream",
     "text": [
      "Parametreler: {'hidden_layer_sizes': (800,), 'alpha': 0.0007, 'learning_rate_init': 0.001, 'solver': 'lbfgs', 'activation': 'relu'} | Skor: 0.5630952380952381 | Süre: 4 sn\n"
     ]
    },
    {
     "name": "stderr",
     "output_type": "stream",
     "text": [
      "MLPClassifier Grid Search:  50%|█████     | 48/96 [02:29<03:20,  4.17s/it]"
     ]
    },
    {
     "name": "stdout",
     "output_type": "stream",
     "text": [
      "Parametreler: {'hidden_layer_sizes': (800,), 'alpha': 0.0007, 'learning_rate_init': 0.002, 'solver': 'lbfgs', 'activation': 'relu'} | Skor: 0.5630952380952381 | Süre: 4 sn\n"
     ]
    },
    {
     "name": "stderr",
     "output_type": "stream",
     "text": [
      "MLPClassifier Grid Search:  51%|█████     | 49/96 [02:33<03:18,  4.23s/it]"
     ]
    },
    {
     "name": "stdout",
     "output_type": "stream",
     "text": [
      "Parametreler: {'hidden_layer_sizes': (512, 128), 'alpha': 0.0001, 'learning_rate_init': 0.0005, 'solver': 'lbfgs', 'activation': 'relu'} | Skor: 0.5357142857142857 | Süre: 4 sn\n"
     ]
    },
    {
     "name": "stderr",
     "output_type": "stream",
     "text": [
      "MLPClassifier Grid Search:  52%|█████▏    | 50/96 [02:38<03:27,  4.51s/it]"
     ]
    },
    {
     "name": "stdout",
     "output_type": "stream",
     "text": [
      "Parametreler: {'hidden_layer_sizes': (512, 128), 'alpha': 0.0001, 'learning_rate_init': 0.001, 'solver': 'lbfgs', 'activation': 'relu'} | Skor: 0.5357142857142857 | Süre: 5 sn\n"
     ]
    },
    {
     "name": "stderr",
     "output_type": "stream",
     "text": [
      "MLPClassifier Grid Search:  53%|█████▎    | 51/96 [02:43<03:28,  4.64s/it]"
     ]
    },
    {
     "name": "stdout",
     "output_type": "stream",
     "text": [
      "Parametreler: {'hidden_layer_sizes': (512, 128), 'alpha': 0.0001, 'learning_rate_init': 0.002, 'solver': 'lbfgs', 'activation': 'relu'} | Skor: 0.5357142857142857 | Süre: 4 sn\n"
     ]
    },
    {
     "name": "stderr",
     "output_type": "stream",
     "text": [
      "MLPClassifier Grid Search:  54%|█████▍    | 52/96 [02:52<04:15,  5.82s/it]"
     ]
    },
    {
     "name": "stdout",
     "output_type": "stream",
     "text": [
      "Parametreler: {'hidden_layer_sizes': (512, 128), 'alpha': 0.0003, 'learning_rate_init': 0.0005, 'solver': 'lbfgs', 'activation': 'relu'} | Skor: 0.5523809523809524 | Süre: 8 sn\n"
     ]
    },
    {
     "name": "stderr",
     "output_type": "stream",
     "text": [
      "MLPClassifier Grid Search:  55%|█████▌    | 53/96 [03:00<04:36,  6.44s/it]"
     ]
    },
    {
     "name": "stdout",
     "output_type": "stream",
     "text": [
      "Parametreler: {'hidden_layer_sizes': (512, 128), 'alpha': 0.0003, 'learning_rate_init': 0.001, 'solver': 'lbfgs', 'activation': 'relu'} | Skor: 0.5523809523809524 | Süre: 7 sn\n"
     ]
    },
    {
     "name": "stderr",
     "output_type": "stream",
     "text": [
      "MLPClassifier Grid Search:  56%|█████▋    | 54/96 [03:07<04:42,  6.72s/it]"
     ]
    },
    {
     "name": "stdout",
     "output_type": "stream",
     "text": [
      "Parametreler: {'hidden_layer_sizes': (512, 128), 'alpha': 0.0003, 'learning_rate_init': 0.002, 'solver': 'lbfgs', 'activation': 'relu'} | Skor: 0.5523809523809524 | Süre: 7 sn\n"
     ]
    },
    {
     "name": "stderr",
     "output_type": "stream",
     "text": [
      "MLPClassifier Grid Search:  57%|█████▋    | 55/96 [03:18<05:25,  7.94s/it]"
     ]
    },
    {
     "name": "stdout",
     "output_type": "stream",
     "text": [
      "Parametreler: {'hidden_layer_sizes': (512, 128), 'alpha': 0.0005, 'learning_rate_init': 0.0005, 'solver': 'lbfgs', 'activation': 'relu'} | Skor: 0.5476190476190477 | Süre: 10 sn\n"
     ]
    },
    {
     "name": "stderr",
     "output_type": "stream",
     "text": [
      "MLPClassifier Grid Search:  58%|█████▊    | 56/96 [03:28<05:45,  8.64s/it]"
     ]
    },
    {
     "name": "stdout",
     "output_type": "stream",
     "text": [
      "Parametreler: {'hidden_layer_sizes': (512, 128), 'alpha': 0.0005, 'learning_rate_init': 0.001, 'solver': 'lbfgs', 'activation': 'relu'} | Skor: 0.5476190476190477 | Süre: 10 sn\n"
     ]
    },
    {
     "name": "stderr",
     "output_type": "stream",
     "text": [
      "MLPClassifier Grid Search:  59%|█████▉    | 57/96 [03:38<05:44,  8.83s/it]"
     ]
    },
    {
     "name": "stdout",
     "output_type": "stream",
     "text": [
      "Parametreler: {'hidden_layer_sizes': (512, 128), 'alpha': 0.0005, 'learning_rate_init': 0.002, 'solver': 'lbfgs', 'activation': 'relu'} | Skor: 0.5476190476190477 | Süre: 9 sn\n"
     ]
    },
    {
     "name": "stderr",
     "output_type": "stream",
     "text": [
      "MLPClassifier Grid Search:  60%|██████    | 58/96 [03:49<06:04,  9.60s/it]"
     ]
    },
    {
     "name": "stdout",
     "output_type": "stream",
     "text": [
      "Parametreler: {'hidden_layer_sizes': (512, 128), 'alpha': 0.0007, 'learning_rate_init': 0.0005, 'solver': 'lbfgs', 'activation': 'relu'} | Skor: 0.5625000000000001 | Süre: 11 sn\n"
     ]
    },
    {
     "name": "stderr",
     "output_type": "stream",
     "text": [
      "MLPClassifier Grid Search:  61%|██████▏   | 59/96 [04:00<06:07,  9.93s/it]"
     ]
    },
    {
     "name": "stdout",
     "output_type": "stream",
     "text": [
      "Parametreler: {'hidden_layer_sizes': (512, 128), 'alpha': 0.0007, 'learning_rate_init': 0.001, 'solver': 'lbfgs', 'activation': 'relu'} | Skor: 0.5625000000000001 | Süre: 10 sn\n"
     ]
    },
    {
     "name": "stderr",
     "output_type": "stream",
     "text": [
      "MLPClassifier Grid Search:  62%|██████▎   | 60/96 [04:10<06:00, 10.03s/it]"
     ]
    },
    {
     "name": "stdout",
     "output_type": "stream",
     "text": [
      "Parametreler: {'hidden_layer_sizes': (512, 128), 'alpha': 0.0007, 'learning_rate_init': 0.002, 'solver': 'lbfgs', 'activation': 'relu'} | Skor: 0.5625000000000001 | Süre: 10 sn\n"
     ]
    },
    {
     "name": "stderr",
     "output_type": "stream",
     "text": [
      "MLPClassifier Grid Search:  64%|██████▎   | 61/96 [04:21<06:00, 10.30s/it]"
     ]
    },
    {
     "name": "stdout",
     "output_type": "stream",
     "text": [
      "Parametreler: {'hidden_layer_sizes': (600, 150), 'alpha': 0.0001, 'learning_rate_init': 0.0005, 'solver': 'lbfgs', 'activation': 'relu'} | Skor: 0.5535714285714285 | Süre: 10 sn\n"
     ]
    },
    {
     "name": "stderr",
     "output_type": "stream",
     "text": [
      "MLPClassifier Grid Search:  65%|██████▍   | 62/96 [04:31<05:49, 10.29s/it]"
     ]
    },
    {
     "name": "stdout",
     "output_type": "stream",
     "text": [
      "Parametreler: {'hidden_layer_sizes': (600, 150), 'alpha': 0.0001, 'learning_rate_init': 0.001, 'solver': 'lbfgs', 'activation': 'relu'} | Skor: 0.5535714285714285 | Süre: 10 sn\n"
     ]
    },
    {
     "name": "stderr",
     "output_type": "stream",
     "text": [
      "MLPClassifier Grid Search:  66%|██████▌   | 63/96 [04:45<06:12, 11.28s/it]"
     ]
    },
    {
     "name": "stdout",
     "output_type": "stream",
     "text": [
      "Parametreler: {'hidden_layer_sizes': (600, 150), 'alpha': 0.0001, 'learning_rate_init': 0.002, 'solver': 'lbfgs', 'activation': 'relu'} | Skor: 0.5535714285714285 | Süre: 13 sn\n"
     ]
    },
    {
     "name": "stderr",
     "output_type": "stream",
     "text": [
      "MLPClassifier Grid Search:  67%|██████▋   | 64/96 [04:58<06:21, 11.94s/it]"
     ]
    },
    {
     "name": "stdout",
     "output_type": "stream",
     "text": [
      "Parametreler: {'hidden_layer_sizes': (600, 150), 'alpha': 0.0003, 'learning_rate_init': 0.0005, 'solver': 'lbfgs', 'activation': 'relu'} | Skor: 0.5595238095238095 | Süre: 13 sn\n"
     ]
    },
    {
     "name": "stderr",
     "output_type": "stream",
     "text": [
      "MLPClassifier Grid Search:  68%|██████▊   | 65/96 [05:13<06:37, 12.84s/it]"
     ]
    },
    {
     "name": "stdout",
     "output_type": "stream",
     "text": [
      "Parametreler: {'hidden_layer_sizes': (600, 150), 'alpha': 0.0003, 'learning_rate_init': 0.001, 'solver': 'lbfgs', 'activation': 'relu'} | Skor: 0.5595238095238095 | Süre: 14 sn\n"
     ]
    },
    {
     "name": "stderr",
     "output_type": "stream",
     "text": [
      "MLPClassifier Grid Search:  69%|██████▉   | 66/96 [05:29<06:54, 13.81s/it]"
     ]
    },
    {
     "name": "stdout",
     "output_type": "stream",
     "text": [
      "Parametreler: {'hidden_layer_sizes': (600, 150), 'alpha': 0.0003, 'learning_rate_init': 0.002, 'solver': 'lbfgs', 'activation': 'relu'} | Skor: 0.5595238095238095 | Süre: 16 sn\n"
     ]
    },
    {
     "name": "stderr",
     "output_type": "stream",
     "text": [
      "MLPClassifier Grid Search:  70%|██████▉   | 67/96 [05:45<06:59, 14.46s/it]"
     ]
    },
    {
     "name": "stdout",
     "output_type": "stream",
     "text": [
      "Parametreler: {'hidden_layer_sizes': (600, 150), 'alpha': 0.0005, 'learning_rate_init': 0.0005, 'solver': 'lbfgs', 'activation': 'relu'} | Skor: 0.5583333333333333 | Süre: 15 sn\n"
     ]
    },
    {
     "name": "stderr",
     "output_type": "stream",
     "text": [
      "MLPClassifier Grid Search:  71%|███████   | 68/96 [06:05<07:33, 16.19s/it]"
     ]
    },
    {
     "name": "stdout",
     "output_type": "stream",
     "text": [
      "Parametreler: {'hidden_layer_sizes': (600, 150), 'alpha': 0.0005, 'learning_rate_init': 0.001, 'solver': 'lbfgs', 'activation': 'relu'} | Skor: 0.5583333333333333 | Süre: 20 sn\n"
     ]
    },
    {
     "name": "stderr",
     "output_type": "stream",
     "text": [
      "MLPClassifier Grid Search:  72%|███████▏  | 69/96 [06:21<07:10, 15.95s/it]"
     ]
    },
    {
     "name": "stdout",
     "output_type": "stream",
     "text": [
      "Parametreler: {'hidden_layer_sizes': (600, 150), 'alpha': 0.0005, 'learning_rate_init': 0.002, 'solver': 'lbfgs', 'activation': 'relu'} | Skor: 0.5583333333333333 | Süre: 15 sn\n"
     ]
    },
    {
     "name": "stderr",
     "output_type": "stream",
     "text": [
      "MLPClassifier Grid Search:  73%|███████▎  | 70/96 [06:36<06:50, 15.79s/it]"
     ]
    },
    {
     "name": "stdout",
     "output_type": "stream",
     "text": [
      "Parametreler: {'hidden_layer_sizes': (600, 150), 'alpha': 0.0007, 'learning_rate_init': 0.0005, 'solver': 'lbfgs', 'activation': 'relu'} | Skor: 0.5636904761904762 | Süre: 15 sn\n"
     ]
    },
    {
     "name": "stderr",
     "output_type": "stream",
     "text": [
      "MLPClassifier Grid Search:  74%|███████▍  | 71/96 [06:53<06:39, 15.98s/it]"
     ]
    },
    {
     "name": "stdout",
     "output_type": "stream",
     "text": [
      "Parametreler: {'hidden_layer_sizes': (600, 150), 'alpha': 0.0007, 'learning_rate_init': 0.001, 'solver': 'lbfgs', 'activation': 'relu'} | Skor: 0.5636904761904762 | Süre: 16 sn\n"
     ]
    },
    {
     "name": "stderr",
     "output_type": "stream",
     "text": [
      "MLPClassifier Grid Search:  75%|███████▌  | 72/96 [07:07<06:09, 15.41s/it]"
     ]
    },
    {
     "name": "stdout",
     "output_type": "stream",
     "text": [
      "Parametreler: {'hidden_layer_sizes': (600, 150), 'alpha': 0.0007, 'learning_rate_init': 0.002, 'solver': 'lbfgs', 'activation': 'relu'} | Skor: 0.5636904761904762 | Süre: 14 sn\n"
     ]
    },
    {
     "name": "stderr",
     "output_type": "stream",
     "text": [
      "MLPClassifier Grid Search:  76%|███████▌  | 73/96 [07:14<05:01, 13.09s/it]"
     ]
    },
    {
     "name": "stdout",
     "output_type": "stream",
     "text": [
      "Parametreler: {'hidden_layer_sizes': (400, 400), 'alpha': 0.0001, 'learning_rate_init': 0.0005, 'solver': 'lbfgs', 'activation': 'relu'} | Skor: 0.5375 | Süre: 7 sn\n"
     ]
    },
    {
     "name": "stderr",
     "output_type": "stream",
     "text": [
      "MLPClassifier Grid Search:  77%|███████▋  | 74/96 [07:22<04:10, 11.39s/it]"
     ]
    },
    {
     "name": "stdout",
     "output_type": "stream",
     "text": [
      "Parametreler: {'hidden_layer_sizes': (400, 400), 'alpha': 0.0001, 'learning_rate_init': 0.001, 'solver': 'lbfgs', 'activation': 'relu'} | Skor: 0.5375 | Süre: 7 sn\n"
     ]
    },
    {
     "name": "stderr",
     "output_type": "stream",
     "text": [
      "MLPClassifier Grid Search:  78%|███████▊  | 75/96 [07:28<03:29,  9.96s/it]"
     ]
    },
    {
     "name": "stdout",
     "output_type": "stream",
     "text": [
      "Parametreler: {'hidden_layer_sizes': (400, 400), 'alpha': 0.0001, 'learning_rate_init': 0.002, 'solver': 'lbfgs', 'activation': 'relu'} | Skor: 0.5375 | Süre: 6 sn\n"
     ]
    },
    {
     "name": "stderr",
     "output_type": "stream",
     "text": [
      "MLPClassifier Grid Search:  79%|███████▉  | 76/96 [07:39<03:23, 10.15s/it]"
     ]
    },
    {
     "name": "stdout",
     "output_type": "stream",
     "text": [
      "Parametreler: {'hidden_layer_sizes': (400, 400), 'alpha': 0.0003, 'learning_rate_init': 0.0005, 'solver': 'lbfgs', 'activation': 'relu'} | Skor: 0.5458333333333334 | Süre: 10 sn\n"
     ]
    },
    {
     "name": "stderr",
     "output_type": "stream",
     "text": [
      "MLPClassifier Grid Search:  80%|████████  | 77/96 [07:49<03:12, 10.13s/it]"
     ]
    },
    {
     "name": "stdout",
     "output_type": "stream",
     "text": [
      "Parametreler: {'hidden_layer_sizes': (400, 400), 'alpha': 0.0003, 'learning_rate_init': 0.001, 'solver': 'lbfgs', 'activation': 'relu'} | Skor: 0.5458333333333334 | Süre: 10 sn\n"
     ]
    },
    {
     "name": "stderr",
     "output_type": "stream",
     "text": [
      "MLPClassifier Grid Search:  81%|████████▏ | 78/96 [08:01<03:10, 10.60s/it]"
     ]
    },
    {
     "name": "stdout",
     "output_type": "stream",
     "text": [
      "Parametreler: {'hidden_layer_sizes': (400, 400), 'alpha': 0.0003, 'learning_rate_init': 0.002, 'solver': 'lbfgs', 'activation': 'relu'} | Skor: 0.5458333333333334 | Süre: 11 sn\n"
     ]
    },
    {
     "name": "stderr",
     "output_type": "stream",
     "text": [
      "MLPClassifier Grid Search:  82%|████████▏ | 79/96 [08:12<03:04, 10.83s/it]"
     ]
    },
    {
     "name": "stdout",
     "output_type": "stream",
     "text": [
      "Parametreler: {'hidden_layer_sizes': (400, 400), 'alpha': 0.0005, 'learning_rate_init': 0.0005, 'solver': 'lbfgs', 'activation': 'relu'} | Skor: 0.5327380952380951 | Süre: 11 sn\n"
     ]
    },
    {
     "name": "stderr",
     "output_type": "stream",
     "text": [
      "MLPClassifier Grid Search:  83%|████████▎ | 80/96 [08:25<03:03, 11.48s/it]"
     ]
    },
    {
     "name": "stdout",
     "output_type": "stream",
     "text": [
      "Parametreler: {'hidden_layer_sizes': (400, 400), 'alpha': 0.0005, 'learning_rate_init': 0.001, 'solver': 'lbfgs', 'activation': 'relu'} | Skor: 0.5327380952380951 | Süre: 12 sn\n"
     ]
    },
    {
     "name": "stderr",
     "output_type": "stream",
     "text": [
      "MLPClassifier Grid Search:  84%|████████▍ | 81/96 [08:37<02:52, 11.52s/it]"
     ]
    },
    {
     "name": "stdout",
     "output_type": "stream",
     "text": [
      "Parametreler: {'hidden_layer_sizes': (400, 400), 'alpha': 0.0005, 'learning_rate_init': 0.002, 'solver': 'lbfgs', 'activation': 'relu'} | Skor: 0.5327380952380951 | Süre: 11 sn\n"
     ]
    },
    {
     "name": "stderr",
     "output_type": "stream",
     "text": [
      "MLPClassifier Grid Search:  85%|████████▌ | 82/96 [08:50<02:48, 12.01s/it]"
     ]
    },
    {
     "name": "stdout",
     "output_type": "stream",
     "text": [
      "Parametreler: {'hidden_layer_sizes': (400, 400), 'alpha': 0.0007, 'learning_rate_init': 0.0005, 'solver': 'lbfgs', 'activation': 'relu'} | Skor: 0.5541666666666666 | Süre: 13 sn\n"
     ]
    },
    {
     "name": "stderr",
     "output_type": "stream",
     "text": [
      "MLPClassifier Grid Search:  86%|████████▋ | 83/96 [09:02<02:35, 11.94s/it]"
     ]
    },
    {
     "name": "stdout",
     "output_type": "stream",
     "text": [
      "Parametreler: {'hidden_layer_sizes': (400, 400), 'alpha': 0.0007, 'learning_rate_init': 0.001, 'solver': 'lbfgs', 'activation': 'relu'} | Skor: 0.5541666666666666 | Süre: 11 sn\n"
     ]
    },
    {
     "name": "stderr",
     "output_type": "stream",
     "text": [
      "MLPClassifier Grid Search:  88%|████████▊ | 84/96 [09:15<02:29, 12.48s/it]"
     ]
    },
    {
     "name": "stdout",
     "output_type": "stream",
     "text": [
      "Parametreler: {'hidden_layer_sizes': (400, 400), 'alpha': 0.0007, 'learning_rate_init': 0.002, 'solver': 'lbfgs', 'activation': 'relu'} | Skor: 0.5541666666666666 | Süre: 13 sn\n"
     ]
    },
    {
     "name": "stderr",
     "output_type": "stream",
     "text": [
      "MLPClassifier Grid Search:  89%|████████▊ | 85/96 [09:25<02:08, 11.68s/it]"
     ]
    },
    {
     "name": "stdout",
     "output_type": "stream",
     "text": [
      "Parametreler: {'hidden_layer_sizes': (500, 500), 'alpha': 0.0001, 'learning_rate_init': 0.0005, 'solver': 'lbfgs', 'activation': 'relu'} | Skor: 0.5744047619047619 | Süre: 9 sn\n"
     ]
    },
    {
     "name": "stderr",
     "output_type": "stream",
     "text": [
      "MLPClassifier Grid Search:  90%|████████▉ | 86/96 [09:36<01:53, 11.31s/it]"
     ]
    },
    {
     "name": "stdout",
     "output_type": "stream",
     "text": [
      "Parametreler: {'hidden_layer_sizes': (500, 500), 'alpha': 0.0001, 'learning_rate_init': 0.001, 'solver': 'lbfgs', 'activation': 'relu'} | Skor: 0.5744047619047619 | Süre: 10 sn\n"
     ]
    },
    {
     "name": "stderr",
     "output_type": "stream",
     "text": [
      "MLPClassifier Grid Search:  91%|█████████ | 87/96 [09:45<01:36, 10.72s/it]"
     ]
    },
    {
     "name": "stdout",
     "output_type": "stream",
     "text": [
      "Parametreler: {'hidden_layer_sizes': (500, 500), 'alpha': 0.0001, 'learning_rate_init': 0.002, 'solver': 'lbfgs', 'activation': 'relu'} | Skor: 0.5744047619047619 | Süre: 9 sn\n"
     ]
    },
    {
     "name": "stderr",
     "output_type": "stream",
     "text": [
      "MLPClassifier Grid Search:  92%|█████████▏| 88/96 [09:57<01:27, 10.99s/it]"
     ]
    },
    {
     "name": "stdout",
     "output_type": "stream",
     "text": [
      "Parametreler: {'hidden_layer_sizes': (500, 500), 'alpha': 0.0003, 'learning_rate_init': 0.0005, 'solver': 'lbfgs', 'activation': 'relu'} | Skor: 0.5535714285714286 | Süre: 11 sn\n"
     ]
    },
    {
     "name": "stderr",
     "output_type": "stream",
     "text": [
      "MLPClassifier Grid Search:  93%|█████████▎| 89/96 [10:09<01:19, 11.35s/it]"
     ]
    },
    {
     "name": "stdout",
     "output_type": "stream",
     "text": [
      "Parametreler: {'hidden_layer_sizes': (500, 500), 'alpha': 0.0003, 'learning_rate_init': 0.001, 'solver': 'lbfgs', 'activation': 'relu'} | Skor: 0.5535714285714286 | Süre: 12 sn\n"
     ]
    },
    {
     "name": "stderr",
     "output_type": "stream",
     "text": [
      "MLPClassifier Grid Search:  94%|█████████▍| 90/96 [10:23<01:13, 12.26s/it]"
     ]
    },
    {
     "name": "stdout",
     "output_type": "stream",
     "text": [
      "Parametreler: {'hidden_layer_sizes': (500, 500), 'alpha': 0.0003, 'learning_rate_init': 0.002, 'solver': 'lbfgs', 'activation': 'relu'} | Skor: 0.5535714285714286 | Süre: 14 sn\n"
     ]
    },
    {
     "name": "stderr",
     "output_type": "stream",
     "text": [
      "MLPClassifier Grid Search:  95%|█████████▍| 91/96 [10:39<01:07, 13.41s/it]"
     ]
    },
    {
     "name": "stdout",
     "output_type": "stream",
     "text": [
      "Parametreler: {'hidden_layer_sizes': (500, 500), 'alpha': 0.0005, 'learning_rate_init': 0.0005, 'solver': 'lbfgs', 'activation': 'relu'} | Skor: 0.5398809523809524 | Süre: 16 sn\n"
     ]
    },
    {
     "name": "stderr",
     "output_type": "stream",
     "text": [
      "MLPClassifier Grid Search:  96%|█████████▌| 92/96 [10:53<00:54, 13.52s/it]"
     ]
    },
    {
     "name": "stdout",
     "output_type": "stream",
     "text": [
      "Parametreler: {'hidden_layer_sizes': (500, 500), 'alpha': 0.0005, 'learning_rate_init': 0.001, 'solver': 'lbfgs', 'activation': 'relu'} | Skor: 0.5398809523809524 | Süre: 13 sn\n"
     ]
    },
    {
     "name": "stderr",
     "output_type": "stream",
     "text": [
      "MLPClassifier Grid Search:  97%|█████████▋| 93/96 [11:07<00:40, 13.56s/it]"
     ]
    },
    {
     "name": "stdout",
     "output_type": "stream",
     "text": [
      "Parametreler: {'hidden_layer_sizes': (500, 500), 'alpha': 0.0005, 'learning_rate_init': 0.002, 'solver': 'lbfgs', 'activation': 'relu'} | Skor: 0.5398809523809524 | Süre: 13 sn\n"
     ]
    },
    {
     "name": "stderr",
     "output_type": "stream",
     "text": [
      "MLPClassifier Grid Search:  98%|█████████▊| 94/96 [11:27<00:31, 15.66s/it]"
     ]
    },
    {
     "name": "stdout",
     "output_type": "stream",
     "text": [
      "Parametreler: {'hidden_layer_sizes': (500, 500), 'alpha': 0.0007, 'learning_rate_init': 0.0005, 'solver': 'lbfgs', 'activation': 'relu'} | Skor: 0.5464285714285714 | Süre: 20 sn\n"
     ]
    },
    {
     "name": "stderr",
     "output_type": "stream",
     "text": [
      "MLPClassifier Grid Search:  99%|█████████▉| 95/96 [11:47<00:16, 16.92s/it]"
     ]
    },
    {
     "name": "stdout",
     "output_type": "stream",
     "text": [
      "Parametreler: {'hidden_layer_sizes': (500, 500), 'alpha': 0.0007, 'learning_rate_init': 0.001, 'solver': 'lbfgs', 'activation': 'relu'} | Skor: 0.5464285714285714 | Süre: 19 sn\n"
     ]
    },
    {
     "name": "stderr",
     "output_type": "stream",
     "text": [
      "MLPClassifier Grid Search: 100%|██████████| 96/96 [12:08<00:00,  7.59s/it]"
     ]
    },
    {
     "name": "stdout",
     "output_type": "stream",
     "text": [
      "Parametreler: {'hidden_layer_sizes': (500, 500), 'alpha': 0.0007, 'learning_rate_init': 0.002, 'solver': 'lbfgs', 'activation': 'relu'} | Skor: 0.5464285714285714 | Süre: 20 sn\n"
     ]
    },
    {
     "name": "stderr",
     "output_type": "stream",
     "text": [
      "\n"
     ]
    },
    {
     "name": "stdout",
     "output_type": "stream",
     "text": [
      "Multilayer Perceptron için en iyi skor: 0.5744047619047619 | Parametreler: {'hidden_layer_sizes': (700,), 'alpha': 0.0005, 'learning_rate_init': 0.0005, 'solver': 'lbfgs', 'activation': 'relu'} | Toplam Süre: 12 dk 8 sn \n",
      "\n"
     ]
    }
   ],
   "source": [
    "model = MLPClassifier(\n",
    "    max_iter=1500,\n",
    "    early_stopping=True,\n",
    "    n_iter_no_change=50,\n",
    "    validation_fraction=0.25,\n",
    "    random_state=42,\n",
    "    tol=1e-6\n",
    ")\n",
    "params = {\n",
    "    \"hidden_layer_sizes\": [\n",
    "        (512,), (600,), (700,), (800,),\n",
    "        (512, 128), (600, 150),\n",
    "        (400, 400), (500, 500)\n",
    "    ],\n",
    "    \"alpha\": [1e-4, 3e-4, 5e-4, 7e-4],\n",
    "    \"learning_rate_init\": [5e-4, 1e-3, 2e-3],\n",
    "    \"solver\": [\"lbfgs\"],\n",
    "    \"activation\": [\"relu\"]\n",
    "}\n",
    "\n",
    "print(\"Multilayer Perceptron eğitimi başladı.\")\n",
    "best_model, best_score, best_params, total_time = grid_search(model, params, x_train, y_train, cv=5)\n",
    "joblib.dump(best_model, \"../../models/ml_features/uc_merced_mlp.pkl\")\n",
    "print(\"Multilayer Perceptron için en iyi skor:\", best_score, \"| Parametreler:\", best_params, \"| Toplam Süre:\", total_time, \"\\n\")"
   ]
  }
 ],
 "metadata": {
  "kernelspec": {
   "display_name": ".venv",
   "language": "python",
   "name": "python3"
  },
  "language_info": {
   "codemirror_mode": {
    "name": "ipython",
    "version": 3
   },
   "file_extension": ".py",
   "mimetype": "text/x-python",
   "name": "python",
   "nbconvert_exporter": "python",
   "pygments_lexer": "ipython3",
   "version": "3.11.9"
  }
 },
 "nbformat": 4,
 "nbformat_minor": 5
}
