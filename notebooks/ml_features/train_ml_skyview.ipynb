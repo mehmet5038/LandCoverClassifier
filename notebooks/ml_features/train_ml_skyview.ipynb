{
 "cells": [
  {
   "cell_type": "markdown",
   "id": "60b9ffad",
   "metadata": {},
   "source": [
    "## Gerekli kütüphaneler:"
   ]
  },
  {
   "cell_type": "code",
   "execution_count": 1,
   "id": "f8275364",
   "metadata": {},
   "outputs": [],
   "source": [
    "import sys\n",
    "\n",
    "sys.path.append(\"../..\")\n",
    "\n",
    "import os\n",
    "import cv2\n",
    "import numpy as np\n",
    "import joblib\n",
    "from tqdm import tqdm\n",
    "\n",
    "from sklearn.ensemble import RandomForestClassifier, GradientBoostingClassifier\n",
    "from sklearn.neural_network import MLPClassifier\n",
    "from sklearn.model_selection import train_test_split\n",
    "\n",
    "\n",
    "from utils.ml_features.preprocesing import extract_features, apply_pca\n",
    "from utils.ml_features.grid_search import grid_search"
   ]
  },
  {
   "cell_type": "markdown",
   "id": "2233f254",
   "metadata": {},
   "source": [
    "## Veri yolu ve etiketler:"
   ]
  },
  {
   "cell_type": "code",
   "execution_count": 2,
   "id": "463109e8",
   "metadata": {},
   "outputs": [],
   "source": [
    "data_dir = \"../../data/skyview\"\n",
    "class_names = sorted(os.listdir(data_dir))"
   ]
  },
  {
   "cell_type": "markdown",
   "id": "ffcac4e7",
   "metadata": {},
   "source": [
    "## Feature çıkarma:"
   ]
  },
  {
   "cell_type": "code",
   "execution_count": 3,
   "id": "2940ab32",
   "metadata": {},
   "outputs": [
    {
     "name": "stdout",
     "output_type": "stream",
     "text": [
      "İşlenen class:  Agriculture\n"
     ]
    },
    {
     "name": "stderr",
     "output_type": "stream",
     "text": [
      "                                                               \r"
     ]
    },
    {
     "name": "stdout",
     "output_type": "stream",
     "text": [
      "İşlenen class:  Airport\n"
     ]
    },
    {
     "name": "stderr",
     "output_type": "stream",
     "text": [
      "                                                           \r"
     ]
    },
    {
     "name": "stdout",
     "output_type": "stream",
     "text": [
      "İşlenen class:  Beach\n"
     ]
    },
    {
     "name": "stderr",
     "output_type": "stream",
     "text": [
      "                                                         \r"
     ]
    },
    {
     "name": "stdout",
     "output_type": "stream",
     "text": [
      "İşlenen class:  City\n"
     ]
    },
    {
     "name": "stderr",
     "output_type": "stream",
     "text": [
      "                                                        \r"
     ]
    },
    {
     "name": "stdout",
     "output_type": "stream",
     "text": [
      "İşlenen class:  Desert\n"
     ]
    },
    {
     "name": "stderr",
     "output_type": "stream",
     "text": [
      "                                                          \r"
     ]
    },
    {
     "name": "stdout",
     "output_type": "stream",
     "text": [
      "İşlenen class:  Forest\n"
     ]
    },
    {
     "name": "stderr",
     "output_type": "stream",
     "text": [
      "                                                          \r"
     ]
    },
    {
     "name": "stdout",
     "output_type": "stream",
     "text": [
      "İşlenen class:  Grassland\n"
     ]
    },
    {
     "name": "stderr",
     "output_type": "stream",
     "text": [
      "                                                             \r"
     ]
    },
    {
     "name": "stdout",
     "output_type": "stream",
     "text": [
      "İşlenen class:  Highway\n"
     ]
    },
    {
     "name": "stderr",
     "output_type": "stream",
     "text": [
      "                                                           \r"
     ]
    },
    {
     "name": "stdout",
     "output_type": "stream",
     "text": [
      "İşlenen class:  Lake\n"
     ]
    },
    {
     "name": "stderr",
     "output_type": "stream",
     "text": [
      "                                                        \r"
     ]
    },
    {
     "name": "stdout",
     "output_type": "stream",
     "text": [
      "İşlenen class:  Mountain\n"
     ]
    },
    {
     "name": "stderr",
     "output_type": "stream",
     "text": [
      "                                                            \r"
     ]
    },
    {
     "name": "stdout",
     "output_type": "stream",
     "text": [
      "İşlenen class:  Parking\n"
     ]
    },
    {
     "name": "stderr",
     "output_type": "stream",
     "text": [
      "                                                           \r"
     ]
    },
    {
     "name": "stdout",
     "output_type": "stream",
     "text": [
      "İşlenen class:  Port\n"
     ]
    },
    {
     "name": "stderr",
     "output_type": "stream",
     "text": [
      "                                                        \r"
     ]
    },
    {
     "name": "stdout",
     "output_type": "stream",
     "text": [
      "İşlenen class:  Railway\n"
     ]
    },
    {
     "name": "stderr",
     "output_type": "stream",
     "text": [
      "                                                           \r"
     ]
    },
    {
     "name": "stdout",
     "output_type": "stream",
     "text": [
      "İşlenen class:  Residential\n"
     ]
    },
    {
     "name": "stderr",
     "output_type": "stream",
     "text": [
      "                                                               \r"
     ]
    },
    {
     "name": "stdout",
     "output_type": "stream",
     "text": [
      "İşlenen class:  River\n"
     ]
    },
    {
     "name": "stderr",
     "output_type": "stream",
     "text": [
      "                                                         "
     ]
    },
    {
     "name": "stdout",
     "output_type": "stream",
     "text": [
      "Toplam örnek:  12000  | Feature boyutu:  1803\n"
     ]
    },
    {
     "name": "stderr",
     "output_type": "stream",
     "text": [
      "\r"
     ]
    }
   ],
   "source": [
    "x_data, y_data = [], []\n",
    "\n",
    "for label, cls in enumerate(class_names):\n",
    "    cls_path = os.path.join(data_dir, cls)\n",
    "    print(\"İşlenen class: \", cls)\n",
    "    for fname in tqdm(os.listdir(cls_path), desc=f\"{cls}\", leave=False):\n",
    "        img_path = os.path.join(cls_path, fname)\n",
    "        img = cv2.imread(img_path)\n",
    "        if img is None:\n",
    "            continue\n",
    "        img = cv2.cvtColor(img, cv2.COLOR_BGR2RGB)\n",
    "        img = cv2.resize(img, (128, 128))\n",
    "        features = extract_features(img)\n",
    "        x_data.append(features)\n",
    "        y_data.append(label)\n",
    "\n",
    "x_data = np.array(x_data)\n",
    "y_data = np.array(y_data)\n",
    "print(\"Toplam örnek: \", len(x_data), \" | Feature boyutu: \",  x_data.shape[1])"
   ]
  },
  {
   "cell_type": "markdown",
   "id": "af6f69c7",
   "metadata": {},
   "source": [
    "## PCA kullanarak boyut azaltımı:"
   ]
  },
  {
   "cell_type": "code",
   "execution_count": 4,
   "id": "0344bdfa",
   "metadata": {},
   "outputs": [],
   "source": [
    "x_reduced = apply_pca(x_data, n_components=100)"
   ]
  },
  {
   "cell_type": "markdown",
   "id": "af125646",
   "metadata": {},
   "source": [
    "## Veriyi bölme:"
   ]
  },
  {
   "cell_type": "code",
   "execution_count": 5,
   "id": "db991d18",
   "metadata": {},
   "outputs": [],
   "source": [
    "x_train, x_test, y_train, y_test = train_test_split(x_reduced, y_data, test_size=0.2, stratify=y_data, random_state=42)"
   ]
  },
  {
   "cell_type": "markdown",
   "id": "b34e1be4",
   "metadata": {},
   "source": [
    "## Grid search ile model eğitme:"
   ]
  },
  {
   "cell_type": "code",
   "execution_count": null,
   "id": "412ed396",
   "metadata": {},
   "outputs": [
    {
     "name": "stdout",
     "output_type": "stream",
     "text": [
      "\n",
      "Modellerin eğitilimi başladı.\n",
      "\n",
      "RANDOM_FOREST  eğitimi başladı.\n",
      "Denenecek hiperparametre kombinasyon sayısı:  2\n"
     ]
    },
    {
     "name": "stderr",
     "output_type": "stream",
     "text": [
      "RandomForestClassifier Grid Search:  50%|█████     | 1/2 [00:25<00:25, 25.47s/it]"
     ]
    },
    {
     "name": "stdout",
     "output_type": "stream",
     "text": [
      "Parametreler:  {'n_estimators': 100}  | Skor:  0.7291666666666666  | Süre:  25.466294527053833 sn\n"
     ]
    },
    {
     "name": "stderr",
     "output_type": "stream",
     "text": [
      "RandomForestClassifier Grid Search: 100%|██████████| 2/2 [01:10<00:00, 35.16s/it]"
     ]
    },
    {
     "name": "stdout",
     "output_type": "stream",
     "text": [
      "Parametreler:  {'n_estimators': 200}  | Skor:  0.7396874999999999  | Süre:  44.84531283378601 sn\n"
     ]
    },
    {
     "name": "stderr",
     "output_type": "stream",
     "text": [
      "\n"
     ]
    },
    {
     "name": "stdout",
     "output_type": "stream",
     "text": [
      "\n",
      " RANDOM_FOREST  için en iyi skor:  0.7396874999999999  | Parametreler:  {'n_estimators': 200}\n",
      "GRADIENT_BOOSTING  eğitimi başladı.\n",
      "Denenecek hiperparametre kombinasyon sayısı:  2\n"
     ]
    },
    {
     "name": "stderr",
     "output_type": "stream",
     "text": [
      "GradientBoostingClassifier Grid Search:   0%|          | 0/2 [14:09<?, ?it/s]\n"
     ]
    },
    {
     "ename": "TypeError",
     "evalue": "unsupported operand type(s) for +: 'int' and 'str'",
     "output_type": "error",
     "traceback": [
      "\u001b[31m---------------------------------------------------------------------------\u001b[39m",
      "\u001b[31mTypeError\u001b[39m                                 Traceback (most recent call last)",
      "\u001b[36mCell\u001b[39m\u001b[36m \u001b[39m\u001b[32mIn[6]\u001b[39m\u001b[32m, line 20\u001b[39m\n\u001b[32m     18\u001b[39m \u001b[38;5;28;01mfor\u001b[39;00m name, (model, params) \u001b[38;5;129;01min\u001b[39;00m models.items():\n\u001b[32m     19\u001b[39m     \u001b[38;5;28mprint\u001b[39m(name.upper(), \u001b[33m\"\u001b[39m\u001b[33m eğitimi başladı.\u001b[39m\u001b[33m\"\u001b[39m)\n\u001b[32m---> \u001b[39m\u001b[32m20\u001b[39m     best_model, best_score, best_params = \u001b[43mgrid_search\u001b[49m\u001b[43m(\u001b[49m\u001b[43mmodel\u001b[49m\u001b[43m,\u001b[49m\u001b[43m \u001b[49m\u001b[43mparams\u001b[49m\u001b[43m,\u001b[49m\u001b[43m \u001b[49m\u001b[43mx_train\u001b[49m\u001b[43m,\u001b[49m\u001b[43m \u001b[49m\u001b[43my_train\u001b[49m\u001b[43m,\u001b[49m\u001b[43m \u001b[49m\u001b[43mcv\u001b[49m\u001b[43m=\u001b[49m\u001b[32;43m5\u001b[39;49m\u001b[43m)\u001b[49m\n\u001b[32m     21\u001b[39m     trained_models[name] = best_model\n\u001b[32m     22\u001b[39m     joblib.dump(best_model, \u001b[33m\"\u001b[39m\u001b[33m../../models/ml_features/skyview_\u001b[39m\u001b[33m\"\u001b[39m + name + \u001b[33m\"\u001b[39m\u001b[33m.pkl\u001b[39m\u001b[33m\"\u001b[39m)\n",
      "\u001b[36mFile \u001b[39m\u001b[32mc:\\Users\\mehmet\\Desktop\\LandCoverClassifier\\notebooks\\ml_features\\../..\\utils\\ml_features\\grid_search.py:25\u001b[39m, in \u001b[36mgrid_search\u001b[39m\u001b[34m(model_class, param_grid, X, y, cv, scoring)\u001b[39m\n\u001b[32m     23\u001b[39m scores = cross_val_score(model, X, y, cv=cv, scoring=scoring, n_jobs=-\u001b[32m1\u001b[39m)\n\u001b[32m     24\u001b[39m duration = time.time() - start\n\u001b[32m---> \u001b[39m\u001b[32m25\u001b[39m formatted_time = \u001b[43mformat_duration\u001b[49m\u001b[43m(\u001b[49m\u001b[43mduration\u001b[49m\u001b[43m)\u001b[49m\n\u001b[32m     27\u001b[39m avg_score = np.mean(scores)\n\u001b[32m     28\u001b[39m \u001b[38;5;28mprint\u001b[39m(\u001b[33m\"\u001b[39m\u001b[33mParametreler: \u001b[39m\u001b[33m\"\u001b[39m, params, \u001b[33m\"\u001b[39m\u001b[33m | Skor: \u001b[39m\u001b[33m\"\u001b[39m, avg_score, \u001b[33m\"\u001b[39m\u001b[33m | Süre: \u001b[39m\u001b[33m\"\u001b[39m, formatted_time)\n",
      "\u001b[36mFile \u001b[39m\u001b[32mc:\\Users\\mehmet\\Desktop\\LandCoverClassifier\\notebooks\\ml_features\\../..\\utils\\ml_features\\grid_search.py:44\u001b[39m, in \u001b[36mformat_duration\u001b[39m\u001b[34m(seconds)\u001b[39m\n\u001b[32m     42\u001b[39m     minutes = \u001b[38;5;28mint\u001b[39m(seconds // \u001b[32m60\u001b[39m)\n\u001b[32m     43\u001b[39m     secs = \u001b[38;5;28mint\u001b[39m(seconds % \u001b[32m60\u001b[39m)\n\u001b[32m---> \u001b[39m\u001b[32m44\u001b[39m     \u001b[38;5;28;01mreturn\u001b[39;00m \u001b[43mminutes\u001b[49m\u001b[43m \u001b[49m\u001b[43m+\u001b[49m\u001b[43m \u001b[49m\u001b[33;43m\"\u001b[39;49m\u001b[33;43m dk\u001b[39;49m\u001b[33;43m\"\u001b[39;49m + secs + \u001b[33m\"\u001b[39m\u001b[33m sn\u001b[39m\u001b[33m\"\u001b[39m\n\u001b[32m     45\u001b[39m \u001b[38;5;28;01melse\u001b[39;00m:\n\u001b[32m     46\u001b[39m     hours = \u001b[38;5;28mint\u001b[39m(seconds // \u001b[32m3600\u001b[39m)\n",
      "\u001b[31mTypeError\u001b[39m: unsupported operand type(s) for +: 'int' and 'str'"
     ]
    }
   ],
   "source": [
    "models = {\n",
    "    \"random_forest\": (\n",
    "        RandomForestClassifier(), {\n",
    "            \"n_estimators\": [75, 100], \n",
    "            \"max_depth\": [10, 20]\n",
    "        }\n",
    "    ),\n",
    "\n",
    "    \"gradient_boosting\": (\n",
    "        GradientBoostingClassifier(), {\"n_estimators\": [100, 200]}\n",
    "    ),\n",
    "\n",
    "    \"multilayer_perceptron\": (\n",
    "        MLPClassifier(max_iter=300),\n",
    "        {\n",
    "            \"hidden_layer_sizes\": [(100,), (100, 50), (128, 64)],\n",
    "            \"alpha\": [0.0001, 0.001],\n",
    "            \"learning_rate_init\": [0.001, 0.01]\n",
    "        }\n",
    "    )\n",
    "}\n",
    "\n",
    "trained_models = {}\n",
    "\n",
    "print(\"\\nModellerin eğitimi başladı.\\n\")\n",
    "\n",
    "for name, (model, params) in models.items():\n",
    "    print(name.upper(), \" eğitimi başladı.\")\n",
    "    best_model, best_score, best_params = grid_search(model, params, x_train, y_train, cv=5)\n",
    "    trained_models[name] = best_model\n",
    "    joblib.dump(best_model, \"../../models/ml_features/skyview_\" + name + \".pkl\")\n",
    "    print(\"\\n\", name.upper(), \" için en iyi skor: \", best_score, \" | Parametreler: \", best_params + \"\\n\")"
   ]
  }
 ],
 "metadata": {
  "kernelspec": {
   "display_name": ".venv",
   "language": "python",
   "name": "python3"
  },
  "language_info": {
   "codemirror_mode": {
    "name": "ipython",
    "version": 3
   },
   "file_extension": ".py",
   "mimetype": "text/x-python",
   "name": "python",
   "nbconvert_exporter": "python",
   "pygments_lexer": "ipython3",
   "version": "3.11.9"
  }
 },
 "nbformat": 4,
 "nbformat_minor": 5
}
