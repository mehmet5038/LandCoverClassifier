{
 "cells": [
  {
   "cell_type": "markdown",
   "id": "60b9ffad",
   "metadata": {},
   "source": [
    "## Gerekli kütüphaneler:"
   ]
  },
  {
   "cell_type": "code",
   "execution_count": 1,
   "id": "f8275364",
   "metadata": {},
   "outputs": [],
   "source": [
    "import sys\n",
    "\n",
    "sys.path.append(\"../..\")\n",
    "\n",
    "import os\n",
    "import cv2\n",
    "import numpy as np\n",
    "import joblib\n",
    "from tqdm import tqdm\n",
    "\n",
    "from sklearn.ensemble import RandomForestClassifier, GradientBoostingClassifier\n",
    "from sklearn.neural_network import MLPClassifier\n",
    "from sklearn.model_selection import train_test_split\n",
    "\n",
    "from utils.ml_features.preprocessing import extract_features, apply_pca\n",
    "from utils.ml_features.grid_search import grid_search"
   ]
  },
  {
   "cell_type": "markdown",
   "id": "2233f254",
   "metadata": {},
   "source": [
    "## Veri yolu ve etiketler:"
   ]
  },
  {
   "cell_type": "code",
   "execution_count": 2,
   "id": "463109e8",
   "metadata": {},
   "outputs": [],
   "source": [
    "data_dir = \"../../data/skyview\"\n",
    "class_names = sorted(os.listdir(data_dir))"
   ]
  },
  {
   "cell_type": "markdown",
   "id": "ffcac4e7",
   "metadata": {},
   "source": [
    "## Feature çıkarma:"
   ]
  },
  {
   "cell_type": "code",
   "execution_count": 3,
   "id": "2940ab32",
   "metadata": {},
   "outputs": [
    {
     "name": "stdout",
     "output_type": "stream",
     "text": [
      "İşlenen class: Agriculture\n"
     ]
    },
    {
     "name": "stderr",
     "output_type": "stream",
     "text": [
      "                                                              \r"
     ]
    },
    {
     "name": "stdout",
     "output_type": "stream",
     "text": [
      "İşlenen class: Airport\n"
     ]
    },
    {
     "name": "stderr",
     "output_type": "stream",
     "text": [
      "                                                          \r"
     ]
    },
    {
     "name": "stdout",
     "output_type": "stream",
     "text": [
      "İşlenen class: Beach\n"
     ]
    },
    {
     "name": "stderr",
     "output_type": "stream",
     "text": [
      "                                                        \r"
     ]
    },
    {
     "name": "stdout",
     "output_type": "stream",
     "text": [
      "İşlenen class: City\n"
     ]
    },
    {
     "name": "stderr",
     "output_type": "stream",
     "text": [
      "                                                       \r"
     ]
    },
    {
     "name": "stdout",
     "output_type": "stream",
     "text": [
      "İşlenen class: Desert\n"
     ]
    },
    {
     "name": "stderr",
     "output_type": "stream",
     "text": [
      "                                                          \r"
     ]
    },
    {
     "name": "stdout",
     "output_type": "stream",
     "text": [
      "İşlenen class: Forest\n"
     ]
    },
    {
     "name": "stderr",
     "output_type": "stream",
     "text": [
      "                                                          \r"
     ]
    },
    {
     "name": "stdout",
     "output_type": "stream",
     "text": [
      "İşlenen class: Grassland\n"
     ]
    },
    {
     "name": "stderr",
     "output_type": "stream",
     "text": [
      "                                                             \r"
     ]
    },
    {
     "name": "stdout",
     "output_type": "stream",
     "text": [
      "İşlenen class: Highway\n"
     ]
    },
    {
     "name": "stderr",
     "output_type": "stream",
     "text": [
      "                                                           \r"
     ]
    },
    {
     "name": "stdout",
     "output_type": "stream",
     "text": [
      "İşlenen class: Lake\n"
     ]
    },
    {
     "name": "stderr",
     "output_type": "stream",
     "text": [
      "                                                        \r"
     ]
    },
    {
     "name": "stdout",
     "output_type": "stream",
     "text": [
      "İşlenen class: Mountain\n"
     ]
    },
    {
     "name": "stderr",
     "output_type": "stream",
     "text": [
      "                                                           \r"
     ]
    },
    {
     "name": "stdout",
     "output_type": "stream",
     "text": [
      "İşlenen class: Parking\n"
     ]
    },
    {
     "name": "stderr",
     "output_type": "stream",
     "text": [
      "                                                           \r"
     ]
    },
    {
     "name": "stdout",
     "output_type": "stream",
     "text": [
      "İşlenen class: Port\n"
     ]
    },
    {
     "name": "stderr",
     "output_type": "stream",
     "text": [
      "                                                        \r"
     ]
    },
    {
     "name": "stdout",
     "output_type": "stream",
     "text": [
      "İşlenen class: Railway\n"
     ]
    },
    {
     "name": "stderr",
     "output_type": "stream",
     "text": [
      "                                                           \r"
     ]
    },
    {
     "name": "stdout",
     "output_type": "stream",
     "text": [
      "İşlenen class: Residential\n"
     ]
    },
    {
     "name": "stderr",
     "output_type": "stream",
     "text": [
      "                                                               \r"
     ]
    },
    {
     "name": "stdout",
     "output_type": "stream",
     "text": [
      "İşlenen class: River\n"
     ]
    },
    {
     "name": "stderr",
     "output_type": "stream",
     "text": [
      "                                                         \r"
     ]
    },
    {
     "name": "stdout",
     "output_type": "stream",
     "text": [
      "Toplam örnek: 12000 | Feature boyutu: 1803\n"
     ]
    }
   ],
   "source": [
    "x_data, y_data = [], []\n",
    "\n",
    "for label, cls in enumerate(class_names):\n",
    "    cls_path = os.path.join(data_dir, cls)\n",
    "    print(\"İşlenen class:\", cls)\n",
    "    for fname in tqdm(os.listdir(cls_path), desc=f\"{cls}\", leave=False):\n",
    "        img_path = os.path.join(cls_path, fname)\n",
    "        img = cv2.imread(img_path)\n",
    "        if img is None:\n",
    "            continue\n",
    "        img = cv2.cvtColor(img, cv2.COLOR_BGR2RGB)\n",
    "        img = cv2.resize(img, (128, 128))\n",
    "        features = extract_features(img)\n",
    "        x_data.append(features)\n",
    "        y_data.append(label)\n",
    "\n",
    "x_data = np.array(x_data)\n",
    "y_data = np.array(y_data)\n",
    "print(\"Toplam örnek:\", len(x_data), \"| Feature boyutu:\",  x_data.shape[1])"
   ]
  },
  {
   "cell_type": "markdown",
   "id": "af6f69c7",
   "metadata": {},
   "source": [
    "## PCA kullanarak boyut azaltımı:"
   ]
  },
  {
   "cell_type": "code",
   "execution_count": 4,
   "id": "0344bdfa",
   "metadata": {},
   "outputs": [],
   "source": [
    "x_reduced = apply_pca(True, x_data, n_components=100)"
   ]
  },
  {
   "cell_type": "markdown",
   "id": "af125646",
   "metadata": {},
   "source": [
    "## Veriyi bölme:"
   ]
  },
  {
   "cell_type": "code",
   "execution_count": 5,
   "id": "db991d18",
   "metadata": {},
   "outputs": [],
   "source": [
    "x_train, x_test, y_train, y_test = train_test_split(x_reduced, y_data, test_size=0.2, stratify=y_data, random_state=42)"
   ]
  },
  {
   "cell_type": "markdown",
   "id": "f72244b1",
   "metadata": {},
   "source": [
    "## Grid search ile random forest:"
   ]
  },
  {
   "cell_type": "code",
   "execution_count": 7,
   "id": "6127b05c",
   "metadata": {},
   "outputs": [
    {
     "name": "stdout",
     "output_type": "stream",
     "text": [
      "Random Forest eğitimi başladı.\n",
      "Denenecek hiperparametre kombinasyon sayısı: 4\n"
     ]
    },
    {
     "name": "stderr",
     "output_type": "stream",
     "text": [
      "RandomForestClassifier Grid Search:  25%|██▌       | 1/4 [00:16<00:48, 16.27s/it]"
     ]
    },
    {
     "name": "stdout",
     "output_type": "stream",
     "text": [
      "Parametreler: {'n_estimators': 75, 'max_depth': 10} | Skor: 0.6759375 | Süre: 16 sn\n"
     ]
    },
    {
     "name": "stderr",
     "output_type": "stream",
     "text": [
      "RandomForestClassifier Grid Search:  50%|█████     | 2/4 [00:35<00:35, 17.84s/it]"
     ]
    },
    {
     "name": "stdout",
     "output_type": "stream",
     "text": [
      "Parametreler: {'n_estimators': 75, 'max_depth': 20} | Skor: 0.7202083333333332 | Süre: 18 sn\n"
     ]
    },
    {
     "name": "stderr",
     "output_type": "stream",
     "text": [
      "RandomForestClassifier Grid Search:  75%|███████▌  | 3/4 [00:49<00:16, 16.43s/it]"
     ]
    },
    {
     "name": "stdout",
     "output_type": "stream",
     "text": [
      "Parametreler: {'n_estimators': 100, 'max_depth': 10} | Skor: 0.6816666666666666 | Süre: 14 sn\n"
     ]
    },
    {
     "name": "stderr",
     "output_type": "stream",
     "text": [
      "RandomForestClassifier Grid Search: 100%|██████████| 4/4 [01:11<00:00, 17.95s/it]"
     ]
    },
    {
     "name": "stdout",
     "output_type": "stream",
     "text": [
      "Parametreler: {'n_estimators': 100, 'max_depth': 20} | Skor: 0.7259374999999999 | Süre: 21 sn\n"
     ]
    },
    {
     "name": "stderr",
     "output_type": "stream",
     "text": [
      "\n"
     ]
    },
    {
     "name": "stdout",
     "output_type": "stream",
     "text": [
      "Random Forest için en iyi skor: 0.7259374999999999 | Parametreler: {'n_estimators': 100, 'max_depth': 20} | Toplam Süre: 1 dk 11 sn \n",
      "\n"
     ]
    }
   ],
   "source": [
    "model = RandomForestClassifier()\n",
    "params = {\n",
    "    \"n_estimators\": [75, 100],\n",
    "    \"max_depth\": [10, 20]\n",
    "}\n",
    "\n",
    "print(\"Random Forest eğitimi başladı.\")\n",
    "best_model, best_score, best_params, total_time = grid_search(model, params, x_train, y_train, cv=5)\n",
    "joblib.dump(best_model, \"../../models/ml_features/skyview_rf.pkl\")\n",
    "print(\"Random Forest için en iyi skor:\", best_score, \"| Parametreler:\", best_params, \"| Toplam Süre:\", total_time, \"\\n\")"
   ]
  },
  {
   "cell_type": "markdown",
   "id": "f1f3cf50",
   "metadata": {},
   "source": [
    "## Grid search ile gradient boosting:"
   ]
  },
  {
   "cell_type": "code",
   "execution_count": 8,
   "id": "b7ee34a3",
   "metadata": {},
   "outputs": [
    {
     "name": "stdout",
     "output_type": "stream",
     "text": [
      "Gradient Boosting eğitimi başladı.\n",
      "Denenecek hiperparametre kombinasyon sayısı: 2\n"
     ]
    },
    {
     "name": "stderr",
     "output_type": "stream",
     "text": [
      "GradientBoostingClassifier Grid Search:  50%|█████     | 1/2 [16:21<16:21, 981.76s/it]"
     ]
    },
    {
     "name": "stdout",
     "output_type": "stream",
     "text": [
      "Parametreler: {'n_estimators': 100} | Skor: 0.7387499999999999 | Süre: 16 dk 21 sn\n"
     ]
    },
    {
     "name": "stderr",
     "output_type": "stream",
     "text": [
      "GradientBoostingClassifier Grid Search: 100%|██████████| 2/2 [49:16<00:00, 1478.39s/it]"
     ]
    },
    {
     "name": "stdout",
     "output_type": "stream",
     "text": [
      "Parametreler: {'n_estimators': 200} | Skor: 0.7584375000000001 | Süre: 32 dk 55 sn\n"
     ]
    },
    {
     "name": "stderr",
     "output_type": "stream",
     "text": [
      "\n"
     ]
    },
    {
     "name": "stdout",
     "output_type": "stream",
     "text": [
      "Gradient Boosting için en iyi skor: 0.7584375000000001 | Parametreler: {'n_estimators': 200} | Toplam Süre: 49 dk 16 sn \n",
      "\n"
     ]
    }
   ],
   "source": [
    "model = GradientBoostingClassifier()\n",
    "params = {\n",
    "    \"n_estimators\": [100, 200]\n",
    "}\n",
    "\n",
    "print(\"Gradient Boosting eğitimi başladı.\")\n",
    "best_model, best_score, best_params, total_time = grid_search(model, params, x_train, y_train, cv=5)\n",
    "joblib.dump(best_model, \"../../models/ml_features/skyview_gb.pkl\")\n",
    "print(\"Gradient Boosting için en iyi skor:\", best_score, \"| Parametreler:\", best_params, \"| Toplam Süre:\", total_time, \"\\n\")"
   ]
  },
  {
   "cell_type": "markdown",
   "id": "7d3a42a9",
   "metadata": {},
   "source": [
    "## Grid search ile multilayer perceptron:"
   ]
  },
  {
   "cell_type": "code",
   "execution_count": 6,
   "id": "433874af",
   "metadata": {},
   "outputs": [
    {
     "name": "stdout",
     "output_type": "stream",
     "text": [
      "Multilayer Perceptron eğitimi başladı.\n",
      "Denenecek hiperparametre kombinasyon sayısı: 45\n"
     ]
    },
    {
     "name": "stderr",
     "output_type": "stream",
     "text": [
      "MLPClassifier Grid Search:   2%|▏         | 1/45 [00:30<22:00, 30.00s/it]"
     ]
    },
    {
     "name": "stdout",
     "output_type": "stream",
     "text": [
      "Parametreler: {'hidden_layer_sizes': (128,), 'alpha': 0.0001, 'learning_rate_init': 0.0005} | Skor: 0.5911458333333334 | Süre: 30 sn\n"
     ]
    },
    {
     "name": "stderr",
     "output_type": "stream",
     "text": [
      "MLPClassifier Grid Search:   4%|▍         | 2/45 [01:01<22:15, 31.06s/it]"
     ]
    },
    {
     "name": "stdout",
     "output_type": "stream",
     "text": [
      "Parametreler: {'hidden_layer_sizes': (128,), 'alpha': 0.0001, 'learning_rate_init': 0.001} | Skor: 0.6015625 | Süre: 31 sn\n"
     ]
    },
    {
     "name": "stderr",
     "output_type": "stream",
     "text": [
      "MLPClassifier Grid Search:   7%|▋         | 3/45 [01:18<17:00, 24.29s/it]"
     ]
    },
    {
     "name": "stdout",
     "output_type": "stream",
     "text": [
      "Parametreler: {'hidden_layer_sizes': (128,), 'alpha': 0.0001, 'learning_rate_init': 0.005} | Skor: 0.5415625000000001 | Süre: 16 sn\n"
     ]
    },
    {
     "name": "stderr",
     "output_type": "stream",
     "text": [
      "MLPClassifier Grid Search:   9%|▉         | 4/45 [01:59<21:16, 31.13s/it]"
     ]
    },
    {
     "name": "stdout",
     "output_type": "stream",
     "text": [
      "Parametreler: {'hidden_layer_sizes': (128,), 'alpha': 0.001, 'learning_rate_init': 0.0005} | Skor: 0.5801041666666666 | Süre: 41 sn\n"
     ]
    },
    {
     "name": "stderr",
     "output_type": "stream",
     "text": [
      "MLPClassifier Grid Search:  11%|█         | 5/45 [02:25<19:34, 29.37s/it]"
     ]
    },
    {
     "name": "stdout",
     "output_type": "stream",
     "text": [
      "Parametreler: {'hidden_layer_sizes': (128,), 'alpha': 0.001, 'learning_rate_init': 0.001} | Skor: 0.5904166666666667 | Süre: 26 sn\n"
     ]
    },
    {
     "name": "stderr",
     "output_type": "stream",
     "text": [
      "MLPClassifier Grid Search:  13%|█▎        | 6/45 [02:39<15:38, 24.06s/it]"
     ]
    },
    {
     "name": "stdout",
     "output_type": "stream",
     "text": [
      "Parametreler: {'hidden_layer_sizes': (128,), 'alpha': 0.001, 'learning_rate_init': 0.005} | Skor: 0.5569791666666666 | Süre: 13 sn\n"
     ]
    },
    {
     "name": "stderr",
     "output_type": "stream",
     "text": [
      "MLPClassifier Grid Search:  16%|█▌        | 7/45 [03:20<18:47, 29.67s/it]"
     ]
    },
    {
     "name": "stdout",
     "output_type": "stream",
     "text": [
      "Parametreler: {'hidden_layer_sizes': (128,), 'alpha': 0.005, 'learning_rate_init': 0.0005} | Skor: 0.5865625000000001 | Süre: 41 sn\n"
     ]
    },
    {
     "name": "stderr",
     "output_type": "stream",
     "text": [
      "MLPClassifier Grid Search:  18%|█▊        | 8/45 [03:42<16:48, 27.26s/it]"
     ]
    },
    {
     "name": "stdout",
     "output_type": "stream",
     "text": [
      "Parametreler: {'hidden_layer_sizes': (128,), 'alpha': 0.005, 'learning_rate_init': 0.001} | Skor: 0.5780208333333333 | Süre: 22 sn\n"
     ]
    },
    {
     "name": "stderr",
     "output_type": "stream",
     "text": [
      "MLPClassifier Grid Search:  20%|██        | 9/45 [03:56<13:51, 23.09s/it]"
     ]
    },
    {
     "name": "stdout",
     "output_type": "stream",
     "text": [
      "Parametreler: {'hidden_layer_sizes': (128,), 'alpha': 0.005, 'learning_rate_init': 0.005} | Skor: 0.5641666666666667 | Süre: 13 sn\n"
     ]
    },
    {
     "name": "stderr",
     "output_type": "stream",
     "text": [
      "MLPClassifier Grid Search:  22%|██▏       | 10/45 [04:41<17:20, 29.73s/it]"
     ]
    },
    {
     "name": "stdout",
     "output_type": "stream",
     "text": [
      "Parametreler: {'hidden_layer_sizes': (256,), 'alpha': 0.0001, 'learning_rate_init': 0.0005} | Skor: 0.5911458333333334 | Süre: 44 sn\n"
     ]
    },
    {
     "name": "stderr",
     "output_type": "stream",
     "text": [
      "MLPClassifier Grid Search:  24%|██▍       | 11/45 [05:08<16:27, 29.04s/it]"
     ]
    },
    {
     "name": "stdout",
     "output_type": "stream",
     "text": [
      "Parametreler: {'hidden_layer_sizes': (256,), 'alpha': 0.0001, 'learning_rate_init': 0.001} | Skor: 0.6029166666666665 | Süre: 27 sn\n"
     ]
    },
    {
     "name": "stderr",
     "output_type": "stream",
     "text": [
      "MLPClassifier Grid Search:  27%|██▋       | 12/45 [05:34<15:24, 28.03s/it]"
     ]
    },
    {
     "name": "stdout",
     "output_type": "stream",
     "text": [
      "Parametreler: {'hidden_layer_sizes': (256,), 'alpha': 0.0001, 'learning_rate_init': 0.005} | Skor: 0.4736458333333333 | Süre: 25 sn\n"
     ]
    },
    {
     "name": "stderr",
     "output_type": "stream",
     "text": [
      "MLPClassifier Grid Search:  29%|██▉       | 13/45 [06:15<17:03, 31.99s/it]"
     ]
    },
    {
     "name": "stdout",
     "output_type": "stream",
     "text": [
      "Parametreler: {'hidden_layer_sizes': (256,), 'alpha': 0.001, 'learning_rate_init': 0.0005} | Skor: 0.5890625 | Süre: 41 sn\n"
     ]
    },
    {
     "name": "stderr",
     "output_type": "stream",
     "text": [
      "MLPClassifier Grid Search:  31%|███       | 14/45 [06:42<15:43, 30.45s/it]"
     ]
    },
    {
     "name": "stdout",
     "output_type": "stream",
     "text": [
      "Parametreler: {'hidden_layer_sizes': (256,), 'alpha': 0.001, 'learning_rate_init': 0.001} | Skor: 0.5968749999999999 | Süre: 26 sn\n"
     ]
    },
    {
     "name": "stderr",
     "output_type": "stream",
     "text": [
      "MLPClassifier Grid Search:  33%|███▎      | 15/45 [07:09<14:42, 29.41s/it]"
     ]
    },
    {
     "name": "stdout",
     "output_type": "stream",
     "text": [
      "Parametreler: {'hidden_layer_sizes': (256,), 'alpha': 0.001, 'learning_rate_init': 0.005} | Skor: 0.4838541666666667 | Süre: 27 sn\n"
     ]
    },
    {
     "name": "stderr",
     "output_type": "stream",
     "text": [
      "MLPClassifier Grid Search:  36%|███▌      | 16/45 [07:51<16:02, 33.18s/it]"
     ]
    },
    {
     "name": "stdout",
     "output_type": "stream",
     "text": [
      "Parametreler: {'hidden_layer_sizes': (256,), 'alpha': 0.005, 'learning_rate_init': 0.0005} | Skor: 0.5953125 | Süre: 41 sn\n"
     ]
    },
    {
     "name": "stderr",
     "output_type": "stream",
     "text": [
      "MLPClassifier Grid Search:  38%|███▊      | 17/45 [08:21<14:57, 32.07s/it]"
     ]
    },
    {
     "name": "stdout",
     "output_type": "stream",
     "text": [
      "Parametreler: {'hidden_layer_sizes': (256,), 'alpha': 0.005, 'learning_rate_init': 0.001} | Skor: 0.6042708333333333 | Süre: 29 sn\n"
     ]
    },
    {
     "name": "stderr",
     "output_type": "stream",
     "text": [
      "MLPClassifier Grid Search:  40%|████      | 18/45 [08:45<13:24, 29.81s/it]"
     ]
    },
    {
     "name": "stdout",
     "output_type": "stream",
     "text": [
      "Parametreler: {'hidden_layer_sizes': (256,), 'alpha': 0.005, 'learning_rate_init': 0.005} | Skor: 0.4697916666666666 | Süre: 24 sn\n"
     ]
    },
    {
     "name": "stderr",
     "output_type": "stream",
     "text": [
      "MLPClassifier Grid Search:  42%|████▏     | 19/45 [09:18<13:19, 30.75s/it]"
     ]
    },
    {
     "name": "stdout",
     "output_type": "stream",
     "text": [
      "Parametreler: {'hidden_layer_sizes': (128, 64), 'alpha': 0.0001, 'learning_rate_init': 0.0005} | Skor: 0.44020833333333337 | Süre: 32 sn\n"
     ]
    },
    {
     "name": "stderr",
     "output_type": "stream",
     "text": [
      "MLPClassifier Grid Search:  44%|████▍     | 20/45 [10:01<14:23, 34.54s/it]"
     ]
    },
    {
     "name": "stdout",
     "output_type": "stream",
     "text": [
      "Parametreler: {'hidden_layer_sizes': (128, 64), 'alpha': 0.0001, 'learning_rate_init': 0.001} | Skor: 0.42718750000000005 | Süre: 43 sn\n"
     ]
    },
    {
     "name": "stderr",
     "output_type": "stream",
     "text": [
      "MLPClassifier Grid Search:  47%|████▋     | 21/45 [10:13<11:00, 27.52s/it]"
     ]
    },
    {
     "name": "stdout",
     "output_type": "stream",
     "text": [
      "Parametreler: {'hidden_layer_sizes': (128, 64), 'alpha': 0.0001, 'learning_rate_init': 0.005} | Skor: 0.13374999999999998 | Süre: 11 sn\n"
     ]
    },
    {
     "name": "stderr",
     "output_type": "stream",
     "text": [
      "MLPClassifier Grid Search:  49%|████▉     | 22/45 [10:48<11:26, 29.84s/it]"
     ]
    },
    {
     "name": "stdout",
     "output_type": "stream",
     "text": [
      "Parametreler: {'hidden_layer_sizes': (128, 64), 'alpha': 0.001, 'learning_rate_init': 0.0005} | Skor: 0.43322916666666667 | Süre: 35 sn\n"
     ]
    },
    {
     "name": "stderr",
     "output_type": "stream",
     "text": [
      "MLPClassifier Grid Search:  51%|█████     | 23/45 [11:26<11:50, 32.28s/it]"
     ]
    },
    {
     "name": "stdout",
     "output_type": "stream",
     "text": [
      "Parametreler: {'hidden_layer_sizes': (128, 64), 'alpha': 0.001, 'learning_rate_init': 0.001} | Skor: 0.4257291666666667 | Süre: 37 sn\n"
     ]
    },
    {
     "name": "stderr",
     "output_type": "stream",
     "text": [
      "MLPClassifier Grid Search:  53%|█████▎    | 24/45 [11:32<08:34, 24.50s/it]"
     ]
    },
    {
     "name": "stdout",
     "output_type": "stream",
     "text": [
      "Parametreler: {'hidden_layer_sizes': (128, 64), 'alpha': 0.001, 'learning_rate_init': 0.005} | Skor: 0.12208333333333332 | Süre: 6 sn\n"
     ]
    },
    {
     "name": "stderr",
     "output_type": "stream",
     "text": [
      "MLPClassifier Grid Search:  56%|█████▌    | 25/45 [12:07<09:14, 27.74s/it]"
     ]
    },
    {
     "name": "stdout",
     "output_type": "stream",
     "text": [
      "Parametreler: {'hidden_layer_sizes': (128, 64), 'alpha': 0.005, 'learning_rate_init': 0.0005} | Skor: 0.5045833333333334 | Süre: 35 sn\n"
     ]
    },
    {
     "name": "stderr",
     "output_type": "stream",
     "text": [
      "MLPClassifier Grid Search:  58%|█████▊    | 26/45 [12:29<08:09, 25.78s/it]"
     ]
    },
    {
     "name": "stdout",
     "output_type": "stream",
     "text": [
      "Parametreler: {'hidden_layer_sizes': (128, 64), 'alpha': 0.005, 'learning_rate_init': 0.001} | Skor: 0.37843750000000004 | Süre: 21 sn\n"
     ]
    },
    {
     "name": "stderr",
     "output_type": "stream",
     "text": [
      "MLPClassifier Grid Search:  60%|██████    | 27/45 [12:41<06:32, 21.83s/it]"
     ]
    },
    {
     "name": "stdout",
     "output_type": "stream",
     "text": [
      "Parametreler: {'hidden_layer_sizes': (128, 64), 'alpha': 0.005, 'learning_rate_init': 0.005} | Skor: 0.16020833333333334 | Süre: 12 sn\n"
     ]
    },
    {
     "name": "stderr",
     "output_type": "stream",
     "text": [
      "MLPClassifier Grid Search:  62%|██████▏   | 28/45 [13:30<08:29, 29.94s/it]"
     ]
    },
    {
     "name": "stdout",
     "output_type": "stream",
     "text": [
      "Parametreler: {'hidden_layer_sizes': (256, 128), 'alpha': 0.0001, 'learning_rate_init': 0.0005} | Skor: 0.5848958333333334 | Süre: 48 sn\n"
     ]
    },
    {
     "name": "stderr",
     "output_type": "stream",
     "text": [
      "MLPClassifier Grid Search:  64%|██████▍   | 29/45 [14:28<10:14, 38.42s/it]"
     ]
    },
    {
     "name": "stdout",
     "output_type": "stream",
     "text": [
      "Parametreler: {'hidden_layer_sizes': (256, 128), 'alpha': 0.0001, 'learning_rate_init': 0.001} | Skor: 0.590625 | Süre: 58 sn\n"
     ]
    },
    {
     "name": "stderr",
     "output_type": "stream",
     "text": [
      "MLPClassifier Grid Search:  67%|██████▋   | 30/45 [14:44<07:55, 31.72s/it]"
     ]
    },
    {
     "name": "stdout",
     "output_type": "stream",
     "text": [
      "Parametreler: {'hidden_layer_sizes': (256, 128), 'alpha': 0.0001, 'learning_rate_init': 0.005} | Skor: 0.151875 | Süre: 16 sn\n"
     ]
    },
    {
     "name": "stderr",
     "output_type": "stream",
     "text": [
      "MLPClassifier Grid Search:  69%|██████▉   | 31/45 [15:21<07:45, 33.28s/it]"
     ]
    },
    {
     "name": "stdout",
     "output_type": "stream",
     "text": [
      "Parametreler: {'hidden_layer_sizes': (256, 128), 'alpha': 0.001, 'learning_rate_init': 0.0005} | Skor: 0.5824999999999999 | Süre: 36 sn\n"
     ]
    },
    {
     "name": "stderr",
     "output_type": "stream",
     "text": [
      "MLPClassifier Grid Search:  71%|███████   | 32/45 [16:05<07:51, 36.23s/it]"
     ]
    },
    {
     "name": "stdout",
     "output_type": "stream",
     "text": [
      "Parametreler: {'hidden_layer_sizes': (256, 128), 'alpha': 0.001, 'learning_rate_init': 0.001} | Skor: 0.5632291666666667 | Süre: 43 sn\n"
     ]
    },
    {
     "name": "stderr",
     "output_type": "stream",
     "text": [
      "MLPClassifier Grid Search:  73%|███████▎  | 33/45 [16:30<06:37, 33.15s/it]"
     ]
    },
    {
     "name": "stdout",
     "output_type": "stream",
     "text": [
      "Parametreler: {'hidden_layer_sizes': (256, 128), 'alpha': 0.001, 'learning_rate_init': 0.005} | Skor: 0.17864583333333334 | Süre: 25 sn\n"
     ]
    },
    {
     "name": "stderr",
     "output_type": "stream",
     "text": [
      "MLPClassifier Grid Search:  76%|███████▌  | 34/45 [17:18<06:52, 37.47s/it]"
     ]
    },
    {
     "name": "stdout",
     "output_type": "stream",
     "text": [
      "Parametreler: {'hidden_layer_sizes': (256, 128), 'alpha': 0.005, 'learning_rate_init': 0.0005} | Skor: 0.5877083333333333 | Süre: 47 sn\n"
     ]
    },
    {
     "name": "stderr",
     "output_type": "stream",
     "text": [
      "MLPClassifier Grid Search:  78%|███████▊  | 35/45 [17:58<06:21, 38.13s/it]"
     ]
    },
    {
     "name": "stdout",
     "output_type": "stream",
     "text": [
      "Parametreler: {'hidden_layer_sizes': (256, 128), 'alpha': 0.005, 'learning_rate_init': 0.001} | Skor: 0.5908333333333333 | Süre: 39 sn\n"
     ]
    },
    {
     "name": "stderr",
     "output_type": "stream",
     "text": [
      "MLPClassifier Grid Search:  80%|████████  | 36/45 [18:20<04:59, 33.30s/it]"
     ]
    },
    {
     "name": "stdout",
     "output_type": "stream",
     "text": [
      "Parametreler: {'hidden_layer_sizes': (256, 128), 'alpha': 0.005, 'learning_rate_init': 0.005} | Skor: 0.16395833333333332 | Süre: 22 sn\n"
     ]
    },
    {
     "name": "stderr",
     "output_type": "stream",
     "text": [
      "MLPClassifier Grid Search:  82%|████████▏ | 37/45 [19:08<05:02, 37.86s/it]"
     ]
    },
    {
     "name": "stdout",
     "output_type": "stream",
     "text": [
      "Parametreler: {'hidden_layer_sizes': (256, 128, 64), 'alpha': 0.0001, 'learning_rate_init': 0.0005} | Skor: 0.3729166666666667 | Süre: 48 sn\n"
     ]
    },
    {
     "name": "stderr",
     "output_type": "stream",
     "text": [
      "MLPClassifier Grid Search:  84%|████████▍ | 38/45 [20:33<06:04, 52.06s/it]"
     ]
    },
    {
     "name": "stdout",
     "output_type": "stream",
     "text": [
      "Parametreler: {'hidden_layer_sizes': (256, 128, 64), 'alpha': 0.0001, 'learning_rate_init': 0.001} | Skor: 0.40864583333333326 | Süre: 1 dk 25 sn\n"
     ]
    },
    {
     "name": "stderr",
     "output_type": "stream",
     "text": [
      "MLPClassifier Grid Search:  87%|████████▋ | 39/45 [20:46<04:01, 40.22s/it]"
     ]
    },
    {
     "name": "stdout",
     "output_type": "stream",
     "text": [
      "Parametreler: {'hidden_layer_sizes': (256, 128, 64), 'alpha': 0.0001, 'learning_rate_init': 0.005} | Skor: 0.07468749999999999 | Süre: 12 sn\n"
     ]
    },
    {
     "name": "stderr",
     "output_type": "stream",
     "text": [
      "MLPClassifier Grid Search:  89%|████████▉ | 40/45 [21:54<04:03, 48.68s/it]"
     ]
    },
    {
     "name": "stdout",
     "output_type": "stream",
     "text": [
      "Parametreler: {'hidden_layer_sizes': (256, 128, 64), 'alpha': 0.001, 'learning_rate_init': 0.0005} | Skor: 0.39312500000000006 | Süre: 1 dk 8 sn\n"
     ]
    },
    {
     "name": "stderr",
     "output_type": "stream",
     "text": [
      "MLPClassifier Grid Search:  91%|█████████ | 41/45 [23:39<04:21, 65.32s/it]"
     ]
    },
    {
     "name": "stdout",
     "output_type": "stream",
     "text": [
      "Parametreler: {'hidden_layer_sizes': (256, 128, 64), 'alpha': 0.001, 'learning_rate_init': 0.001} | Skor: 0.5163541666666667 | Süre: 1 dk 44 sn\n"
     ]
    },
    {
     "name": "stderr",
     "output_type": "stream",
     "text": [
      "MLPClassifier Grid Search:  93%|█████████▎| 42/45 [24:16<02:50, 56.89s/it]"
     ]
    },
    {
     "name": "stdout",
     "output_type": "stream",
     "text": [
      "Parametreler: {'hidden_layer_sizes': (256, 128, 64), 'alpha': 0.001, 'learning_rate_init': 0.005} | Skor: 0.14770833333333333 | Süre: 37 sn\n"
     ]
    },
    {
     "name": "stderr",
     "output_type": "stream",
     "text": [
      "MLPClassifier Grid Search:  96%|█████████▌| 43/45 [25:30<02:04, 62.01s/it]"
     ]
    },
    {
     "name": "stdout",
     "output_type": "stream",
     "text": [
      "Parametreler: {'hidden_layer_sizes': (256, 128, 64), 'alpha': 0.005, 'learning_rate_init': 0.0005} | Skor: 0.3045833333333333 | Süre: 1 dk 13 sn\n"
     ]
    },
    {
     "name": "stderr",
     "output_type": "stream",
     "text": [
      "MLPClassifier Grid Search:  98%|█████████▊| 44/45 [27:08<01:12, 73.00s/it]"
     ]
    },
    {
     "name": "stdout",
     "output_type": "stream",
     "text": [
      "Parametreler: {'hidden_layer_sizes': (256, 128, 64), 'alpha': 0.005, 'learning_rate_init': 0.001} | Skor: 0.46260416666666665 | Süre: 1 dk 38 sn\n"
     ]
    },
    {
     "name": "stderr",
     "output_type": "stream",
     "text": [
      "MLPClassifier Grid Search: 100%|██████████| 45/45 [27:26<00:00, 36.58s/it]"
     ]
    },
    {
     "name": "stdout",
     "output_type": "stream",
     "text": [
      "Parametreler: {'hidden_layer_sizes': (256, 128, 64), 'alpha': 0.005, 'learning_rate_init': 0.005} | Skor: 0.08125 | Süre: 17 sn\n"
     ]
    },
    {
     "name": "stderr",
     "output_type": "stream",
     "text": [
      "\n"
     ]
    },
    {
     "name": "stdout",
     "output_type": "stream",
     "text": [
      "Multilayer Perceptron için en iyi skor: 0.6042708333333333 | Parametreler: {'hidden_layer_sizes': (256,), 'alpha': 0.005, 'learning_rate_init': 0.001} | Toplam Süre: 27 dk 26 sn \n",
      "\n"
     ]
    }
   ],
   "source": [
    "model = MLPClassifier(max_iter=1000)\n",
    "params = {\n",
    "    \"hidden_layer_sizes\": [(128,), (256,), (128, 64), (256, 128), (256, 128, 64)],\n",
    "    \"alpha\": [0.0001, 0.001, 0.005],\n",
    "    \"learning_rate_init\": [0.0005, 0.001, 0.005]\n",
    "}\n",
    "\n",
    "print(\"Multilayer Perceptron eğitimi başladı.\")\n",
    "best_model, best_score, best_params, total_time = grid_search(model, params, x_train, y_train, cv=5)\n",
    "joblib.dump(best_model, \"../../models/ml_features/skyview_mlp.pkl\")\n",
    "print(\"Multilayer Perceptron için en iyi skor:\", best_score, \"| Parametreler:\", best_params, \"| Toplam Süre:\", total_time, \"\\n\")"
   ]
  }
 ],
 "metadata": {
  "kernelspec": {
   "display_name": ".venv",
   "language": "python",
   "name": "python3"
  },
  "language_info": {
   "codemirror_mode": {
    "name": "ipython",
    "version": 3
   },
   "file_extension": ".py",
   "mimetype": "text/x-python",
   "name": "python",
   "nbconvert_exporter": "python",
   "pygments_lexer": "ipython3",
   "version": "3.11.9"
  }
 },
 "nbformat": 4,
 "nbformat_minor": 5
}
