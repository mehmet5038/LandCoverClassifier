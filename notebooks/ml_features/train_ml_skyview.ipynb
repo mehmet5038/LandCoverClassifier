{
 "cells": [
  {
   "cell_type": "markdown",
   "id": "60b9ffad",
   "metadata": {},
   "source": [
    "## Gerekli kütüphaneler:\n",
    "Modelin kurulumu ve eğitim süreci için gerekli tüm paketleri içe aktarılır."
   ]
  },
  {
   "cell_type": "code",
   "execution_count": 3,
   "id": "f8275364",
   "metadata": {},
   "outputs": [],
   "source": [
    "import sys\n",
    "\n",
    "sys.path.append(\"../..\")\n",
    "\n",
    "import os\n",
    "import cv2\n",
    "import numpy as np\n",
    "import joblib\n",
    "from tqdm import tqdm\n",
    "\n",
    "from sklearn.ensemble import RandomForestClassifier, GradientBoostingClassifier\n",
    "from sklearn.neural_network import MLPClassifier\n",
    "from sklearn.model_selection import train_test_split\n",
    "\n",
    "from utils.ml_features.preprocessing import extract_features, apply_pca\n",
    "from utils.ml_features.grid_search import grid_search"
   ]
  },
  {
   "cell_type": "markdown",
   "id": "2233f254",
   "metadata": {},
   "source": [
    "## Veri yolu ve etiketler:\n",
    "Veri setinin konumu `data_dir` değişkeninde tanımlanır ve klasör isimleri alfabetik olarak sıralanarak `class_names` listesi ile sınıf etiketleri elde edilir."
   ]
  },
  {
   "cell_type": "code",
   "execution_count": 4,
   "id": "463109e8",
   "metadata": {},
   "outputs": [],
   "source": [
    "data_dir = \"../../data/skyview\"\n",
    "class_names = sorted(os.listdir(data_dir))"
   ]
  },
  {
   "cell_type": "markdown",
   "id": "ffcac4e7",
   "metadata": {},
   "source": [
    "## Feature çıkarma:\n",
    "Her sınıfa ait tüm görüntüler okunur, 128×128 boyutuna getirilir ve RGB formatına dönüştürülür. `extract_features` fonksiyonu ile HOG, LBP, HSV histogramı ve GLCM tabanlı özellikler çıkarılarak `x_data` dizisine eklenir. Sınıf etiketleri `y_data` listesinde tutulur."
   ]
  },
  {
   "cell_type": "code",
   "execution_count": 5,
   "id": "2940ab32",
   "metadata": {},
   "outputs": [
    {
     "name": "stdout",
     "output_type": "stream",
     "text": [
      "İşlenen class: Agriculture\n"
     ]
    },
    {
     "name": "stderr",
     "output_type": "stream",
     "text": [
      "                                                               \r"
     ]
    },
    {
     "name": "stdout",
     "output_type": "stream",
     "text": [
      "İşlenen class: Airport\n"
     ]
    },
    {
     "name": "stderr",
     "output_type": "stream",
     "text": [
      "                                                           \r"
     ]
    },
    {
     "name": "stdout",
     "output_type": "stream",
     "text": [
      "İşlenen class: Beach\n"
     ]
    },
    {
     "name": "stderr",
     "output_type": "stream",
     "text": [
      "                                                         \r"
     ]
    },
    {
     "name": "stdout",
     "output_type": "stream",
     "text": [
      "İşlenen class: City\n"
     ]
    },
    {
     "name": "stderr",
     "output_type": "stream",
     "text": [
      "                                                        \r"
     ]
    },
    {
     "name": "stdout",
     "output_type": "stream",
     "text": [
      "İşlenen class: Desert\n"
     ]
    },
    {
     "name": "stderr",
     "output_type": "stream",
     "text": [
      "                                                          \r"
     ]
    },
    {
     "name": "stdout",
     "output_type": "stream",
     "text": [
      "İşlenen class: Forest\n"
     ]
    },
    {
     "name": "stderr",
     "output_type": "stream",
     "text": [
      "                                                          \r"
     ]
    },
    {
     "name": "stdout",
     "output_type": "stream",
     "text": [
      "İşlenen class: Grassland\n"
     ]
    },
    {
     "name": "stderr",
     "output_type": "stream",
     "text": [
      "                                                             \r"
     ]
    },
    {
     "name": "stdout",
     "output_type": "stream",
     "text": [
      "İşlenen class: Highway\n"
     ]
    },
    {
     "name": "stderr",
     "output_type": "stream",
     "text": [
      "                                                           \r"
     ]
    },
    {
     "name": "stdout",
     "output_type": "stream",
     "text": [
      "İşlenen class: Lake\n"
     ]
    },
    {
     "name": "stderr",
     "output_type": "stream",
     "text": [
      "                                                        \r"
     ]
    },
    {
     "name": "stdout",
     "output_type": "stream",
     "text": [
      "İşlenen class: Mountain\n"
     ]
    },
    {
     "name": "stderr",
     "output_type": "stream",
     "text": [
      "                                                            \r"
     ]
    },
    {
     "name": "stdout",
     "output_type": "stream",
     "text": [
      "İşlenen class: Parking\n"
     ]
    },
    {
     "name": "stderr",
     "output_type": "stream",
     "text": [
      "                                                           \r"
     ]
    },
    {
     "name": "stdout",
     "output_type": "stream",
     "text": [
      "İşlenen class: Port\n"
     ]
    },
    {
     "name": "stderr",
     "output_type": "stream",
     "text": [
      "                                                        \r"
     ]
    },
    {
     "name": "stdout",
     "output_type": "stream",
     "text": [
      "İşlenen class: Railway\n"
     ]
    },
    {
     "name": "stderr",
     "output_type": "stream",
     "text": [
      "                                                           \r"
     ]
    },
    {
     "name": "stdout",
     "output_type": "stream",
     "text": [
      "İşlenen class: Residential\n"
     ]
    },
    {
     "name": "stderr",
     "output_type": "stream",
     "text": [
      "                                                               \r"
     ]
    },
    {
     "name": "stdout",
     "output_type": "stream",
     "text": [
      "İşlenen class: River\n"
     ]
    },
    {
     "name": "stderr",
     "output_type": "stream",
     "text": [
      "                                                         \r"
     ]
    },
    {
     "name": "stdout",
     "output_type": "stream",
     "text": [
      "Toplam örnek: 12000 | Feature boyutu: 1803\n"
     ]
    }
   ],
   "source": [
    "x_data, y_data = [], []\n",
    "\n",
    "for label, cls in enumerate(class_names):\n",
    "    cls_path = os.path.join(data_dir, cls)\n",
    "    print(\"İşlenen class:\", cls)\n",
    "    for fname in tqdm(os.listdir(cls_path), desc=f\"{cls}\", leave=False):\n",
    "        img_path = os.path.join(cls_path, fname)\n",
    "        img = cv2.imread(img_path)\n",
    "        if img is None:\n",
    "            continue\n",
    "        img = cv2.cvtColor(img, cv2.COLOR_BGR2RGB)\n",
    "        img = cv2.resize(img, (128, 128))\n",
    "        features = extract_features(img)\n",
    "        x_data.append(features)\n",
    "        y_data.append(label)\n",
    "\n",
    "x_data = np.array(x_data)\n",
    "y_data = np.array(y_data)\n",
    "print(\"Toplam örnek:\", len(x_data), \"| Feature boyutu:\",  x_data.shape[1])"
   ]
  },
  {
   "cell_type": "markdown",
   "id": "af6f69c7",
   "metadata": {},
   "source": [
    "## PCA kullanarak boyut azaltımı:\n",
    "`apply_pca` fonksiyonu ile 100 bileşenli PCA uygulanarak özellik vektörlerinin boyutu küçültülür."
   ]
  },
  {
   "cell_type": "code",
   "execution_count": 6,
   "id": "0344bdfa",
   "metadata": {},
   "outputs": [],
   "source": [
    "x_reduced = apply_pca(True, x_data, n_components=100)"
   ]
  },
  {
   "cell_type": "markdown",
   "id": "af125646",
   "metadata": {},
   "source": [
    "## Veriyi bölme ve kaydetme:\n",
    "PCA sonrası özellikler, %80 eğitim ve %20 test olacak şekilde `stratify` ile sınıf dengesi korunarak ayrılır. Elde edilen `x_train`, `y_train`, `x_test`, `y_test` verileri `.npy` formatında kaydedilir."
   ]
  },
  {
   "cell_type": "code",
   "execution_count": 7,
   "id": "db991d18",
   "metadata": {},
   "outputs": [],
   "source": [
    "x_train, x_test, y_train, y_test = train_test_split(x_reduced, y_data, test_size=0.2, stratify=y_data, random_state=42)\n",
    "\n",
    "np.save(\"../../features/skyview_x_train.npy\", x_train)\n",
    "np.save(\"../../features/skyview_y_train.npy\", y_train)\n",
    "np.save(\"../../features/skyview_x_test.npy\", x_test)\n",
    "np.save(\"../../features/skyview_y_test.npy\", y_test)"
   ]
  },
  {
   "cell_type": "markdown",
   "id": "f72244b1",
   "metadata": {},
   "source": [
    "## Grid search ile random forest:\n",
    "Random Forest modeli için ağaç sayısı `n_estimators` ve maksimum derinlik `max_depth`  \n",
    "hiperparametreleri 5 katlı çapraz doğrulama ile taranır. En iyi model kaydedilerek daha sonra test ve analiz aşamalarında kullanılır.`skyview_rf.pkl`"
   ]
  },
  {
   "cell_type": "code",
   "execution_count": 7,
   "id": "6127b05c",
   "metadata": {},
   "outputs": [
    {
     "name": "stdout",
     "output_type": "stream",
     "text": [
      "Random Forest eğitimi başladı.\n",
      "Denenecek hiperparametre kombinasyon sayısı: 4\n"
     ]
    },
    {
     "name": "stderr",
     "output_type": "stream",
     "text": [
      "RandomForestClassifier Grid Search:  25%|██▌       | 1/4 [00:16<00:48, 16.27s/it]"
     ]
    },
    {
     "name": "stdout",
     "output_type": "stream",
     "text": [
      "Parametreler: {'n_estimators': 75, 'max_depth': 10} | Skor: 0.6759375 | Süre: 16 sn\n"
     ]
    },
    {
     "name": "stderr",
     "output_type": "stream",
     "text": [
      "RandomForestClassifier Grid Search:  50%|█████     | 2/4 [00:35<00:35, 17.84s/it]"
     ]
    },
    {
     "name": "stdout",
     "output_type": "stream",
     "text": [
      "Parametreler: {'n_estimators': 75, 'max_depth': 20} | Skor: 0.7202083333333332 | Süre: 18 sn\n"
     ]
    },
    {
     "name": "stderr",
     "output_type": "stream",
     "text": [
      "RandomForestClassifier Grid Search:  75%|███████▌  | 3/4 [00:49<00:16, 16.43s/it]"
     ]
    },
    {
     "name": "stdout",
     "output_type": "stream",
     "text": [
      "Parametreler: {'n_estimators': 100, 'max_depth': 10} | Skor: 0.6816666666666666 | Süre: 14 sn\n"
     ]
    },
    {
     "name": "stderr",
     "output_type": "stream",
     "text": [
      "RandomForestClassifier Grid Search: 100%|██████████| 4/4 [01:11<00:00, 17.95s/it]"
     ]
    },
    {
     "name": "stdout",
     "output_type": "stream",
     "text": [
      "Parametreler: {'n_estimators': 100, 'max_depth': 20} | Skor: 0.7259374999999999 | Süre: 21 sn\n"
     ]
    },
    {
     "name": "stderr",
     "output_type": "stream",
     "text": [
      "\n"
     ]
    },
    {
     "name": "stdout",
     "output_type": "stream",
     "text": [
      "Random Forest için en iyi skor: 0.7259374999999999 | Parametreler: {'n_estimators': 100, 'max_depth': 20} | Toplam Süre: 1 dk 11 sn \n",
      "\n"
     ]
    }
   ],
   "source": [
    "model = RandomForestClassifier()\n",
    "params = {\n",
    "    \"n_estimators\": [75, 100],\n",
    "    \"max_depth\": [10, 20]\n",
    "}\n",
    "\n",
    "print(\"Random Forest eğitimi başladı.\")\n",
    "best_model, best_score, best_params, total_time = grid_search(model, params, x_train, y_train, cv=5)\n",
    "joblib.dump(best_model, \"../../models/ml_features/skyview_rf.pkl\")\n",
    "print(\"Random Forest için en iyi skor:\", best_score, \"| Parametreler:\", best_params, \"| Toplam Süre:\", total_time, \"\\n\")"
   ]
  },
  {
   "cell_type": "markdown",
   "id": "f1f3cf50",
   "metadata": {},
   "source": [
    "## Grid search ile gradient boosting:\n",
    "Gradient Boosting için `n_estimators` hiperparametresi 5 katlı çapraz doğrulama ile taranır. En iyi ortalama skoru veren model seçilip kaydedilir. `skyview_gb.pkl`"
   ]
  },
  {
   "cell_type": "code",
   "execution_count": 8,
   "id": "b7ee34a3",
   "metadata": {},
   "outputs": [
    {
     "name": "stdout",
     "output_type": "stream",
     "text": [
      "Gradient Boosting eğitimi başladı.\n",
      "Denenecek hiperparametre kombinasyon sayısı: 2\n"
     ]
    },
    {
     "name": "stderr",
     "output_type": "stream",
     "text": [
      "GradientBoostingClassifier Grid Search:  50%|█████     | 1/2 [16:21<16:21, 981.76s/it]"
     ]
    },
    {
     "name": "stdout",
     "output_type": "stream",
     "text": [
      "Parametreler: {'n_estimators': 100} | Skor: 0.7387499999999999 | Süre: 16 dk 21 sn\n"
     ]
    },
    {
     "name": "stderr",
     "output_type": "stream",
     "text": [
      "GradientBoostingClassifier Grid Search: 100%|██████████| 2/2 [49:16<00:00, 1478.39s/it]"
     ]
    },
    {
     "name": "stdout",
     "output_type": "stream",
     "text": [
      "Parametreler: {'n_estimators': 200} | Skor: 0.7584375000000001 | Süre: 32 dk 55 sn\n"
     ]
    },
    {
     "name": "stderr",
     "output_type": "stream",
     "text": [
      "\n"
     ]
    },
    {
     "name": "stdout",
     "output_type": "stream",
     "text": [
      "Gradient Boosting için en iyi skor: 0.7584375000000001 | Parametreler: {'n_estimators': 200} | Toplam Süre: 49 dk 16 sn \n",
      "\n"
     ]
    }
   ],
   "source": [
    "model = GradientBoostingClassifier()\n",
    "params = {\n",
    "    \"n_estimators\": [100, 200]\n",
    "}\n",
    "\n",
    "print(\"Gradient Boosting eğitimi başladı.\")\n",
    "best_model, best_score, best_params, total_time = grid_search(model, params, x_train, y_train, cv=5)\n",
    "joblib.dump(best_model, \"../../models/ml_features/skyview_gb.pkl\")\n",
    "print(\"Gradient Boosting için en iyi skor:\", best_score, \"| Parametreler:\", best_params, \"| Toplam Süre:\", total_time, \"\\n\")"
   ]
  },
  {
   "cell_type": "markdown",
   "id": "7d3a42a9",
   "metadata": {},
   "source": [
    "## Grid search ile multilayer perceptron:\n",
    "MLP için katman yapısı `hidden_layer_sizes`, düzenleme katsayısı `alpha` ve  \n",
    "öğrenme oranı `learning_rate_init` hiperparametreleri 5 katlı çapraz doğrulama ile taranır. En iyi skor elde eden model kaydedilir. `skyview_mlp.pkl`"
   ]
  },
  {
   "cell_type": "code",
   "execution_count": 9,
   "id": "433874af",
   "metadata": {},
   "outputs": [
    {
     "name": "stdout",
     "output_type": "stream",
     "text": [
      "Multilayer Perceptron eğitimi başladı.\n",
      "Denenecek hiperparametre kombinasyon sayısı: 4\n"
     ]
    },
    {
     "name": "stderr",
     "output_type": "stream",
     "text": [
      "MLPClassifier Grid Search:  25%|██▌       | 1/4 [00:24<01:12, 24.06s/it]"
     ]
    },
    {
     "name": "stdout",
     "output_type": "stream",
     "text": [
      "Parametreler: {'hidden_layer_sizes': (256,), 'alpha': 0.001, 'learning_rate_init': 0.001} | Skor: 0.5919791666666667 | Süre: 24 sn\n"
     ]
    },
    {
     "name": "stderr",
     "output_type": "stream",
     "text": [
      "MLPClassifier Grid Search:  50%|█████     | 2/4 [00:47<00:47, 23.96s/it]"
     ]
    },
    {
     "name": "stdout",
     "output_type": "stream",
     "text": [
      "Parametreler: {'hidden_layer_sizes': (256,), 'alpha': 0.005, 'learning_rate_init': 0.001} | Skor: 0.5865625 | Süre: 23 sn\n"
     ]
    },
    {
     "name": "stderr",
     "output_type": "stream",
     "text": [
      "MLPClassifier Grid Search:  75%|███████▌  | 3/4 [01:28<00:31, 31.50s/it]"
     ]
    },
    {
     "name": "stdout",
     "output_type": "stream",
     "text": [
      "Parametreler: {'hidden_layer_sizes': (256, 128), 'alpha': 0.001, 'learning_rate_init': 0.001} | Skor: 0.58375 | Süre: 40 sn\n"
     ]
    },
    {
     "name": "stderr",
     "output_type": "stream",
     "text": [
      "MLPClassifier Grid Search: 100%|██████████| 4/4 [02:12<00:00, 33.11s/it]"
     ]
    },
    {
     "name": "stdout",
     "output_type": "stream",
     "text": [
      "Parametreler: {'hidden_layer_sizes': (256, 128), 'alpha': 0.005, 'learning_rate_init': 0.001} | Skor: 0.5712499999999999 | Süre: 44 sn\n"
     ]
    },
    {
     "name": "stderr",
     "output_type": "stream",
     "text": [
      "\n"
     ]
    },
    {
     "name": "stdout",
     "output_type": "stream",
     "text": [
      "Multilayer Perceptron için en iyi skor: 0.5919791666666667 | Parametreler: {'hidden_layer_sizes': (256,), 'alpha': 0.001, 'learning_rate_init': 0.001} | Toplam Süre: 2 dk 12 sn \n",
      "\n"
     ]
    }
   ],
   "source": [
    "model = MLPClassifier(\n",
    "    max_iter=1500,\n",
    "    early_stopping=True,\n",
    "    validation_fraction=0.1,\n",
    "    n_iter_no_change=20,\n",
    "    tol=1e-5\n",
    ")\n",
    "params = {\n",
    "    \"hidden_layer_sizes\": [(256,), (256, 128)],\n",
    "    \"alpha\": [0.001, 0.005],\n",
    "    \"learning_rate_init\": [0.001]\n",
    "}\n",
    "\n",
    "print(\"Multilayer Perceptron eğitimi başladı.\")\n",
    "best_model, best_score, best_params, total_time = grid_search(model, params, x_train, y_train, cv=5)\n",
    "joblib.dump(best_model, \"../../models/ml_features/skyview_mlp.pkl\")\n",
    "print(\"Multilayer Perceptron için en iyi skor:\", best_score, \"| Parametreler:\", best_params, \"| Toplam Süre:\", total_time, \"\\n\")"
   ]
  }
 ],
 "metadata": {
  "kernelspec": {
   "display_name": ".venv",
   "language": "python",
   "name": "python3"
  },
  "language_info": {
   "codemirror_mode": {
    "name": "ipython",
    "version": 3
   },
   "file_extension": ".py",
   "mimetype": "text/x-python",
   "name": "python",
   "nbconvert_exporter": "python",
   "pygments_lexer": "ipython3",
   "version": "3.11.9"
  }
 },
 "nbformat": 4,
 "nbformat_minor": 5
}
